{
 "cells": [
  {
   "attachments": {},
   "cell_type": "markdown",
   "metadata": {},
   "source": [
    "# MEMORY"
   ]
  },
  {
   "cell_type": "code",
   "execution_count": 2,
   "metadata": {},
   "outputs": [],
   "source": [
    "import pandas as pd\n",
    "import numpy as np\n",
    "\n"
   ]
  },
  {
   "attachments": {},
   "cell_type": "markdown",
   "metadata": {},
   "source": [
    "### Selecting and reading datasets that will be used"
   ]
  },
  {
   "cell_type": "code",
   "execution_count": 4,
   "metadata": {},
   "outputs": [
    {
     "data": {
      "text/html": [
       "<div>\n",
       "<style scoped>\n",
       "    .dataframe tbody tr th:only-of-type {\n",
       "        vertical-align: middle;\n",
       "    }\n",
       "\n",
       "    .dataframe tbody tr th {\n",
       "        vertical-align: top;\n",
       "    }\n",
       "\n",
       "    .dataframe thead th {\n",
       "        text-align: right;\n",
       "    }\n",
       "</style>\n",
       "<table border=\"1\" class=\"dataframe\">\n",
       "  <thead>\n",
       "    <tr style=\"text-align: right;\">\n",
       "      <th></th>\n",
       "      <th>Nacionalidad</th>\n",
       "      <th>Sexo</th>\n",
       "      <th>Periodo</th>\n",
       "      <th>Total</th>\n",
       "    </tr>\n",
       "  </thead>\n",
       "  <tbody>\n",
       "    <tr>\n",
       "      <th>0</th>\n",
       "      <td>Total</td>\n",
       "      <td>Ambos sexos</td>\n",
       "      <td>2020</td>\n",
       "      <td>25.165,51</td>\n",
       "    </tr>\n",
       "    <tr>\n",
       "      <th>1</th>\n",
       "      <td>Total</td>\n",
       "      <td>Ambos sexos</td>\n",
       "      <td>2019</td>\n",
       "      <td>24.395,98</td>\n",
       "    </tr>\n",
       "    <tr>\n",
       "      <th>2</th>\n",
       "      <td>Total</td>\n",
       "      <td>Ambos sexos</td>\n",
       "      <td>2018</td>\n",
       "      <td>24.009,12</td>\n",
       "    </tr>\n",
       "    <tr>\n",
       "      <th>3</th>\n",
       "      <td>Total</td>\n",
       "      <td>Ambos sexos</td>\n",
       "      <td>2017</td>\n",
       "      <td>23.646,5</td>\n",
       "    </tr>\n",
       "    <tr>\n",
       "      <th>4</th>\n",
       "      <td>Total</td>\n",
       "      <td>Ambos sexos</td>\n",
       "      <td>2016</td>\n",
       "      <td>23.156,34</td>\n",
       "    </tr>\n",
       "  </tbody>\n",
       "</table>\n",
       "</div>"
      ],
      "text/plain": [
       "  Nacionalidad         Sexo  Periodo      Total\n",
       "0        Total  Ambos sexos     2020  25.165,51\n",
       "1        Total  Ambos sexos     2019  24.395,98\n",
       "2        Total  Ambos sexos     2018  24.009,12\n",
       "3        Total  Ambos sexos     2017   23.646,5\n",
       "4        Total  Ambos sexos     2016  23.156,34"
      ]
     },
     "execution_count": 4,
     "metadata": {},
     "output_type": "execute_result"
    }
   ],
   "source": [
    "df_ganancias_sexoNacionalidad = pd.read_csv('..\\data\\Ganancia_anual_sexo&nac.csv', sep = '\\t')\n",
    "df_ganancias_sexoNacionalidad.head()"
   ]
  },
  {
   "cell_type": "code",
   "execution_count": 7,
   "metadata": {},
   "outputs": [
    {
     "name": "stdout",
     "output_type": "stream",
     "text": [
      "<class 'pandas.core.frame.DataFrame'>\n",
      "RangeIndex: 273 entries, 0 to 272\n",
      "Data columns (total 4 columns):\n",
      " #   Column        Non-Null Count  Dtype \n",
      "---  ------        --------------  ----- \n",
      " 0   Nacionalidad  273 non-null    object\n",
      " 1   Sexo          273 non-null    object\n",
      " 2   Periodo       273 non-null    int64 \n",
      " 3   Total         273 non-null    object\n",
      "dtypes: int64(1), object(3)\n",
      "memory usage: 8.7+ KB\n"
     ]
    }
   ],
   "source": [
    "df_ganancias_sexoNacionalidad.info()"
   ]
  },
  {
   "cell_type": "code",
   "execution_count": null,
   "metadata": {},
   "outputs": [],
   "source": [
    "#poner el de obstaculos y si cargo alguno mas"
   ]
  },
  {
   "attachments": {},
   "cell_type": "markdown",
   "metadata": {},
   "source": [
    "## DATA CLEANING ##"
   ]
  },
  {
   "attachments": {},
   "cell_type": "markdown",
   "metadata": {},
   "source": [
    "lo primero que tengo que hacer es convertir la columna total a float con el que pueda trabajar\n",
    "\n",
    "#nota: el '-' delante de los numeros (según leido en la documentacion de los datos procedentes de ine.es)significa una cantidad de muestreo mas reducida, pero no un numero negativo"
   ]
  },
  {
   "cell_type": "code",
   "execution_count": 8,
   "metadata": {},
   "outputs": [
    {
     "name": "stderr",
     "output_type": "stream",
     "text": [
      "C:\\Users\\rivas\\AppData\\Roaming\\Python\\Python37\\site-packages\\ipykernel_launcher.py:3: FutureWarning: The default value of regex will change from True to False in a future version. In addition, single character regular expressions will *not* be treated as literal strings when regex=True.\n",
      "  This is separate from the ipykernel package so we can avoid doing imports until\n"
     ]
    }
   ],
   "source": [
    "#Convert 'Total' column into float so it can be worked with\n",
    "\n",
    "df_ganancias_sexoNacionalidad['Total'] = df_ganancias_sexoNacionalidad['Total'].str.replace('.','')\n",
    "df_ganancias_sexoNacionalidad['Total'] = df_ganancias_sexoNacionalidad['Total'].str.replace(',','.')\n",
    "df_ganancias_sexoNacionalidad['Total'] = df_ganancias_sexoNacionalidad['Total'].str.replace('-','')\n"
   ]
  },
  {
   "cell_type": "code",
   "execution_count": 10,
   "metadata": {},
   "outputs": [],
   "source": [
    "#por alguna razon, al hacer esto se me genera un NaN en muj 2009 otros paises\n",
    "df_ganancias_sexoNacionalidad['Total'] = pd.to_numeric(df_ganancias_sexoNacionalidad['Total'])\n",
    "\n",
    "\n",
    "\n"
   ]
  },
  {
   "cell_type": "code",
   "execution_count": 12,
   "metadata": {},
   "outputs": [
    {
     "name": "stdout",
     "output_type": "stream",
     "text": [
      "<class 'pandas.core.frame.DataFrame'>\n",
      "RangeIndex: 273 entries, 0 to 272\n",
      "Data columns (total 4 columns):\n",
      " #   Column        Non-Null Count  Dtype  \n",
      "---  ------        --------------  -----  \n",
      " 0   Nacionalidad  273 non-null    object \n",
      " 1   Sexo          273 non-null    object \n",
      " 2   Periodo       273 non-null    int64  \n",
      " 3   Total         272 non-null    float64\n",
      "dtypes: float64(1), int64(1), object(2)\n",
      "memory usage: 8.7+ KB\n"
     ]
    }
   ],
   "source": [
    "df_ganancias_sexoNacionalidad.info()"
   ]
  },
  {
   "cell_type": "code",
   "execution_count": 13,
   "metadata": {},
   "outputs": [
    {
     "data": {
      "text/html": [
       "<div>\n",
       "<style scoped>\n",
       "    .dataframe tbody tr th:only-of-type {\n",
       "        vertical-align: middle;\n",
       "    }\n",
       "\n",
       "    .dataframe tbody tr th {\n",
       "        vertical-align: top;\n",
       "    }\n",
       "\n",
       "    .dataframe thead th {\n",
       "        text-align: right;\n",
       "    }\n",
       "</style>\n",
       "<table border=\"1\" class=\"dataframe\">\n",
       "  <thead>\n",
       "    <tr style=\"text-align: right;\">\n",
       "      <th></th>\n",
       "      <th>Nacionalidad</th>\n",
       "      <th>Sexo</th>\n",
       "      <th>Periodo</th>\n",
       "      <th>Total</th>\n",
       "    </tr>\n",
       "  </thead>\n",
       "  <tbody>\n",
       "    <tr>\n",
       "      <th>258</th>\n",
       "      <td>Otros países</td>\n",
       "      <td>Mujeres</td>\n",
       "      <td>2009</td>\n",
       "      <td>NaN</td>\n",
       "    </tr>\n",
       "  </tbody>\n",
       "</table>\n",
       "</div>"
      ],
      "text/plain": [
       "     Nacionalidad     Sexo  Periodo  Total\n",
       "258  Otros países  Mujeres     2009    NaN"
      ]
     },
     "execution_count": 13,
     "metadata": {},
     "output_type": "execute_result"
    }
   ],
   "source": [
    "#arreglar el NaN \n",
    "df_ganancias_sexoNacionalidad[df_ganancias_sexoNacionalidad['Total'].isnull()]"
   ]
  },
  {
   "cell_type": "code",
   "execution_count": 16,
   "metadata": {},
   "outputs": [
    {
     "data": {
      "text/html": [
       "<div>\n",
       "<style scoped>\n",
       "    .dataframe tbody tr th:only-of-type {\n",
       "        vertical-align: middle;\n",
       "    }\n",
       "\n",
       "    .dataframe tbody tr th {\n",
       "        vertical-align: top;\n",
       "    }\n",
       "\n",
       "    .dataframe thead th {\n",
       "        text-align: right;\n",
       "    }\n",
       "</style>\n",
       "<table border=\"1\" class=\"dataframe\">\n",
       "  <thead>\n",
       "    <tr style=\"text-align: right;\">\n",
       "      <th></th>\n",
       "      <th>Nacionalidad</th>\n",
       "      <th>Sexo</th>\n",
       "      <th>Periodo</th>\n",
       "      <th>Total</th>\n",
       "    </tr>\n",
       "  </thead>\n",
       "  <tbody>\n",
       "    <tr>\n",
       "      <th>247</th>\n",
       "      <td>Otros países</td>\n",
       "      <td>Mujeres</td>\n",
       "      <td>2020</td>\n",
       "      <td>15742.510000</td>\n",
       "    </tr>\n",
       "    <tr>\n",
       "      <th>248</th>\n",
       "      <td>Otros países</td>\n",
       "      <td>Mujeres</td>\n",
       "      <td>2019</td>\n",
       "      <td>14444.860000</td>\n",
       "    </tr>\n",
       "    <tr>\n",
       "      <th>249</th>\n",
       "      <td>Otros países</td>\n",
       "      <td>Mujeres</td>\n",
       "      <td>2018</td>\n",
       "      <td>15127.930000</td>\n",
       "    </tr>\n",
       "    <tr>\n",
       "      <th>250</th>\n",
       "      <td>Otros países</td>\n",
       "      <td>Mujeres</td>\n",
       "      <td>2017</td>\n",
       "      <td>11144.560000</td>\n",
       "    </tr>\n",
       "    <tr>\n",
       "      <th>251</th>\n",
       "      <td>Otros países</td>\n",
       "      <td>Mujeres</td>\n",
       "      <td>2016</td>\n",
       "      <td>9459.960000</td>\n",
       "    </tr>\n",
       "    <tr>\n",
       "      <th>252</th>\n",
       "      <td>Otros países</td>\n",
       "      <td>Mujeres</td>\n",
       "      <td>2015</td>\n",
       "      <td>9269.160000</td>\n",
       "    </tr>\n",
       "    <tr>\n",
       "      <th>253</th>\n",
       "      <td>Otros países</td>\n",
       "      <td>Mujeres</td>\n",
       "      <td>2014</td>\n",
       "      <td>11108.650000</td>\n",
       "    </tr>\n",
       "    <tr>\n",
       "      <th>254</th>\n",
       "      <td>Otros países</td>\n",
       "      <td>Mujeres</td>\n",
       "      <td>2013</td>\n",
       "      <td>10073.560000</td>\n",
       "    </tr>\n",
       "    <tr>\n",
       "      <th>255</th>\n",
       "      <td>Otros países</td>\n",
       "      <td>Mujeres</td>\n",
       "      <td>2012</td>\n",
       "      <td>11486.400000</td>\n",
       "    </tr>\n",
       "    <tr>\n",
       "      <th>256</th>\n",
       "      <td>Otros países</td>\n",
       "      <td>Mujeres</td>\n",
       "      <td>2011</td>\n",
       "      <td>11355.960000</td>\n",
       "    </tr>\n",
       "    <tr>\n",
       "      <th>257</th>\n",
       "      <td>Otros países</td>\n",
       "      <td>Mujeres</td>\n",
       "      <td>2010</td>\n",
       "      <td>13145.770000</td>\n",
       "    </tr>\n",
       "    <tr>\n",
       "      <th>258</th>\n",
       "      <td>Otros países</td>\n",
       "      <td>Mujeres</td>\n",
       "      <td>2009</td>\n",
       "      <td>11856.730833</td>\n",
       "    </tr>\n",
       "    <tr>\n",
       "      <th>259</th>\n",
       "      <td>Otros países</td>\n",
       "      <td>Mujeres</td>\n",
       "      <td>2008</td>\n",
       "      <td>9921.450000</td>\n",
       "    </tr>\n",
       "  </tbody>\n",
       "</table>\n",
       "</div>"
      ],
      "text/plain": [
       "     Nacionalidad     Sexo  Periodo         Total\n",
       "247  Otros países  Mujeres     2020  15742.510000\n",
       "248  Otros países  Mujeres     2019  14444.860000\n",
       "249  Otros países  Mujeres     2018  15127.930000\n",
       "250  Otros países  Mujeres     2017  11144.560000\n",
       "251  Otros países  Mujeres     2016   9459.960000\n",
       "252  Otros países  Mujeres     2015   9269.160000\n",
       "253  Otros países  Mujeres     2014  11108.650000\n",
       "254  Otros países  Mujeres     2013  10073.560000\n",
       "255  Otros países  Mujeres     2012  11486.400000\n",
       "256  Otros países  Mujeres     2011  11355.960000\n",
       "257  Otros países  Mujeres     2010  13145.770000\n",
       "258  Otros países  Mujeres     2009  11856.730833\n",
       "259  Otros países  Mujeres     2008   9921.450000"
      ]
     },
     "execution_count": 16,
     "metadata": {},
     "output_type": "execute_result"
    }
   ],
   "source": [
    "#quiero arreglar el NaN con la media de los demás años en otros paises 'mujeres'. \n",
    "df_ganancias_sexoNacionalidad[(df_ganancias_sexoNacionalidad['Nacionalidad'] == 'Otros países') & (df_ganancias_sexoNacionalidad['Sexo'] == 'Mujeres')]['Total'].mean()\n",
    "df_ganancias_sexoNacionalidad['Total'].fillna(df_ganancias_sexoNacionalidad[(df_ganancias_sexoNacionalidad['Nacionalidad'] == 'Otros países') & (df_ganancias_sexoNacionalidad['Sexo'] == 'Mujeres')]['Total'].mean(), inplace= True)\n",
    "df_ganancias_sexoNacionalidad[(df_ganancias_sexoNacionalidad['Nacionalidad'] == 'Otros países') & (df_ganancias_sexoNacionalidad['Sexo'] == 'Mujeres')]\n"
   ]
  },
  {
   "cell_type": "code",
   "execution_count": 203,
   "metadata": {},
   "outputs": [
    {
     "name": "stdout",
     "output_type": "stream",
     "text": [
      "<class 'pandas.core.frame.DataFrame'>\n",
      "RangeIndex: 273 entries, 0 to 272\n",
      "Data columns (total 4 columns):\n",
      " #   Column        Non-Null Count  Dtype  \n",
      "---  ------        --------------  -----  \n",
      " 0   Nacionalidad  273 non-null    object \n",
      " 1   Sexo          273 non-null    object \n",
      " 2   Periodo       273 non-null    object \n",
      " 3   Total         273 non-null    float64\n",
      "dtypes: float64(1), object(3)\n",
      "memory usage: 8.7+ KB\n"
     ]
    }
   ],
   "source": [
    "df_ganancias_sexoNacionalidad.info()"
   ]
  },
  {
   "cell_type": "code",
   "execution_count": 112,
   "metadata": {},
   "outputs": [],
   "source": [
    "#conversión hecha. Ahora puedo hacer un groupby y ver cosas interesantes\n",
    "\n"
   ]
  },
  {
   "cell_type": "code",
   "execution_count": 197,
   "metadata": {},
   "outputs": [
    {
     "data": {
      "text/plain": [
       "Total                         39\n",
       "Española                      39\n",
       "País de la UE28 sin España    39\n",
       "País de Europa menos UE28     39\n",
       "De Africa                     39\n",
       "De América                    39\n",
       "Otros países                  39\n",
       "Name: Nacionalidad, dtype: int64"
      ]
     },
     "execution_count": 197,
     "metadata": {},
     "output_type": "execute_result"
    }
   ],
   "source": [
    "df_ganancias_sexoNacionalidad.Nacionalidad.value_counts()"
   ]
  },
  {
   "cell_type": "code",
   "execution_count": 71,
   "metadata": {},
   "outputs": [],
   "source": [
    "pd.set_option('display.max_rows', 300)"
   ]
  },
  {
   "cell_type": "code",
   "execution_count": 205,
   "metadata": {},
   "outputs": [
    {
     "data": {
      "text/html": [
       "<div>\n",
       "<style scoped>\n",
       "    .dataframe tbody tr th:only-of-type {\n",
       "        vertical-align: middle;\n",
       "    }\n",
       "\n",
       "    .dataframe tbody tr th {\n",
       "        vertical-align: top;\n",
       "    }\n",
       "\n",
       "    .dataframe thead th {\n",
       "        text-align: right;\n",
       "    }\n",
       "</style>\n",
       "<table border=\"1\" class=\"dataframe\">\n",
       "  <thead>\n",
       "    <tr style=\"text-align: right;\">\n",
       "      <th></th>\n",
       "      <th>Nacionalidad</th>\n",
       "      <th>Sexo</th>\n",
       "      <th>Total</th>\n",
       "    </tr>\n",
       "  </thead>\n",
       "  <tbody>\n",
       "    <tr>\n",
       "      <th>0</th>\n",
       "      <td>De Africa</td>\n",
       "      <td>Ambos sexos</td>\n",
       "      <td>15283.835385</td>\n",
       "    </tr>\n",
       "    <tr>\n",
       "      <th>1</th>\n",
       "      <td>De Africa</td>\n",
       "      <td>Hombres</td>\n",
       "      <td>16267.888462</td>\n",
       "    </tr>\n",
       "    <tr>\n",
       "      <th>2</th>\n",
       "      <td>De Africa</td>\n",
       "      <td>Mujeres</td>\n",
       "      <td>12103.980000</td>\n",
       "    </tr>\n",
       "    <tr>\n",
       "      <th>3</th>\n",
       "      <td>De América</td>\n",
       "      <td>Ambos sexos</td>\n",
       "      <td>14997.710769</td>\n",
       "    </tr>\n",
       "    <tr>\n",
       "      <th>4</th>\n",
       "      <td>De América</td>\n",
       "      <td>Hombres</td>\n",
       "      <td>16623.798462</td>\n",
       "    </tr>\n",
       "    <tr>\n",
       "      <th>5</th>\n",
       "      <td>De América</td>\n",
       "      <td>Mujeres</td>\n",
       "      <td>13079.199231</td>\n",
       "    </tr>\n",
       "    <tr>\n",
       "      <th>6</th>\n",
       "      <td>Española</td>\n",
       "      <td>Ambos sexos</td>\n",
       "      <td>23711.827692</td>\n",
       "    </tr>\n",
       "    <tr>\n",
       "      <th>7</th>\n",
       "      <td>Española</td>\n",
       "      <td>Hombres</td>\n",
       "      <td>26567.420769</td>\n",
       "    </tr>\n",
       "    <tr>\n",
       "      <th>8</th>\n",
       "      <td>Española</td>\n",
       "      <td>Mujeres</td>\n",
       "      <td>20586.678462</td>\n",
       "    </tr>\n",
       "    <tr>\n",
       "      <th>9</th>\n",
       "      <td>Otros países</td>\n",
       "      <td>Ambos sexos</td>\n",
       "      <td>13584.080769</td>\n",
       "    </tr>\n",
       "    <tr>\n",
       "      <th>10</th>\n",
       "      <td>Otros países</td>\n",
       "      <td>Hombres</td>\n",
       "      <td>14359.201538</td>\n",
       "    </tr>\n",
       "    <tr>\n",
       "      <th>11</th>\n",
       "      <td>Otros países</td>\n",
       "      <td>Mujeres</td>\n",
       "      <td>11856.730833</td>\n",
       "    </tr>\n",
       "    <tr>\n",
       "      <th>12</th>\n",
       "      <td>País de Europa menos UE28</td>\n",
       "      <td>Ambos sexos</td>\n",
       "      <td>15965.481538</td>\n",
       "    </tr>\n",
       "    <tr>\n",
       "      <th>13</th>\n",
       "      <td>País de Europa menos UE28</td>\n",
       "      <td>Hombres</td>\n",
       "      <td>18498.437692</td>\n",
       "    </tr>\n",
       "    <tr>\n",
       "      <th>14</th>\n",
       "      <td>País de Europa menos UE28</td>\n",
       "      <td>Mujeres</td>\n",
       "      <td>13925.209231</td>\n",
       "    </tr>\n",
       "    <tr>\n",
       "      <th>15</th>\n",
       "      <td>País de la UE28 sin España</td>\n",
       "      <td>Ambos sexos</td>\n",
       "      <td>19074.315385</td>\n",
       "    </tr>\n",
       "    <tr>\n",
       "      <th>16</th>\n",
       "      <td>País de la UE28 sin España</td>\n",
       "      <td>Hombres</td>\n",
       "      <td>21491.463846</td>\n",
       "    </tr>\n",
       "    <tr>\n",
       "      <th>17</th>\n",
       "      <td>País de la UE28 sin España</td>\n",
       "      <td>Mujeres</td>\n",
       "      <td>16247.573846</td>\n",
       "    </tr>\n",
       "    <tr>\n",
       "      <th>18</th>\n",
       "      <td>Total</td>\n",
       "      <td>Ambos sexos</td>\n",
       "      <td>23218.973846</td>\n",
       "    </tr>\n",
       "    <tr>\n",
       "      <th>19</th>\n",
       "      <td>Total</td>\n",
       "      <td>Hombres</td>\n",
       "      <td>25927.737692</td>\n",
       "    </tr>\n",
       "    <tr>\n",
       "      <th>20</th>\n",
       "      <td>Total</td>\n",
       "      <td>Mujeres</td>\n",
       "      <td>20204.954615</td>\n",
       "    </tr>\n",
       "  </tbody>\n",
       "</table>\n",
       "</div>"
      ],
      "text/plain": [
       "                  Nacionalidad         Sexo         Total\n",
       "0                    De Africa  Ambos sexos  15283.835385\n",
       "1                    De Africa      Hombres  16267.888462\n",
       "2                    De Africa      Mujeres  12103.980000\n",
       "3                   De América  Ambos sexos  14997.710769\n",
       "4                   De América      Hombres  16623.798462\n",
       "5                   De América      Mujeres  13079.199231\n",
       "6                     Española  Ambos sexos  23711.827692\n",
       "7                     Española      Hombres  26567.420769\n",
       "8                     Española      Mujeres  20586.678462\n",
       "9                 Otros países  Ambos sexos  13584.080769\n",
       "10                Otros países      Hombres  14359.201538\n",
       "11                Otros países      Mujeres  11856.730833\n",
       "12   País de Europa menos UE28  Ambos sexos  15965.481538\n",
       "13   País de Europa menos UE28      Hombres  18498.437692\n",
       "14   País de Europa menos UE28      Mujeres  13925.209231\n",
       "15  País de la UE28 sin España  Ambos sexos  19074.315385\n",
       "16  País de la UE28 sin España      Hombres  21491.463846\n",
       "17  País de la UE28 sin España      Mujeres  16247.573846\n",
       "18                       Total  Ambos sexos  23218.973846\n",
       "19                       Total      Hombres  25927.737692\n",
       "20                       Total      Mujeres  20204.954615"
      ]
     },
     "execution_count": 205,
     "metadata": {},
     "output_type": "execute_result"
    }
   ],
   "source": [
    "df_grouped = pd.DataFrame(df_ganancias_sexoNacionalidad.groupby([('Nacionalidad'),('Sexo')], as_index=False).mean())\n",
    "df_grouped\n"
   ]
  },
  {
   "cell_type": "code",
   "execution_count": null,
   "metadata": {},
   "outputs": [],
   "source": []
  }
 ],
 "metadata": {
  "kernelspec": {
   "display_name": "Python 3",
   "language": "python",
   "name": "python3"
  },
  "language_info": {
   "codemirror_mode": {
    "name": "ipython",
    "version": 3
   },
   "file_extension": ".py",
   "mimetype": "text/x-python",
   "name": "python",
   "nbconvert_exporter": "python",
   "pygments_lexer": "ipython3",
   "version": "3.7.4"
  },
  "orig_nbformat": 4,
  "vscode": {
   "interpreter": {
    "hash": "36072dc70da23f6a7dd1c68cdc94038b6131d731212e995032884d4bb119d6e7"
   }
  }
 },
 "nbformat": 4,
 "nbformat_minor": 2
}
