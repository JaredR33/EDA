{
 "cells": [
  {
   "cell_type": "code",
   "execution_count": 4,
   "metadata": {},
   "outputs": [],
   "source": [
    "import pandas as pd\n",
    "import numpy as np\n",
    "\n"
   ]
  },
  {
   "cell_type": "code",
   "execution_count": 7,
   "metadata": {},
   "outputs": [
    {
     "data": {
      "text/html": [
       "<div>\n",
       "<style scoped>\n",
       "    .dataframe tbody tr th:only-of-type {\n",
       "        vertical-align: middle;\n",
       "    }\n",
       "\n",
       "    .dataframe tbody tr th {\n",
       "        vertical-align: top;\n",
       "    }\n",
       "\n",
       "    .dataframe thead th {\n",
       "        text-align: right;\n",
       "    }\n",
       "</style>\n",
       "<table border=\"1\" class=\"dataframe\">\n",
       "  <thead>\n",
       "    <tr style=\"text-align: right;\">\n",
       "      <th></th>\n",
       "      <th>Nacionalidad</th>\n",
       "      <th>Sexo</th>\n",
       "      <th>Periodo</th>\n",
       "      <th>Total</th>\n",
       "    </tr>\n",
       "  </thead>\n",
       "  <tbody>\n",
       "    <tr>\n",
       "      <th>0</th>\n",
       "      <td>Total</td>\n",
       "      <td>Ambos sexos</td>\n",
       "      <td>2020</td>\n",
       "      <td>25.165,51</td>\n",
       "    </tr>\n",
       "    <tr>\n",
       "      <th>1</th>\n",
       "      <td>Total</td>\n",
       "      <td>Ambos sexos</td>\n",
       "      <td>2019</td>\n",
       "      <td>24.395,98</td>\n",
       "    </tr>\n",
       "    <tr>\n",
       "      <th>2</th>\n",
       "      <td>Total</td>\n",
       "      <td>Ambos sexos</td>\n",
       "      <td>2018</td>\n",
       "      <td>24.009,12</td>\n",
       "    </tr>\n",
       "    <tr>\n",
       "      <th>3</th>\n",
       "      <td>Total</td>\n",
       "      <td>Ambos sexos</td>\n",
       "      <td>2017</td>\n",
       "      <td>23.646,5</td>\n",
       "    </tr>\n",
       "    <tr>\n",
       "      <th>4</th>\n",
       "      <td>Total</td>\n",
       "      <td>Ambos sexos</td>\n",
       "      <td>2016</td>\n",
       "      <td>23.156,34</td>\n",
       "    </tr>\n",
       "  </tbody>\n",
       "</table>\n",
       "</div>"
      ],
      "text/plain": [
       "  Nacionalidad         Sexo  Periodo      Total\n",
       "0        Total  Ambos sexos     2020  25.165,51\n",
       "1        Total  Ambos sexos     2019  24.395,98\n",
       "2        Total  Ambos sexos     2018  24.009,12\n",
       "3        Total  Ambos sexos     2017   23.646,5\n",
       "4        Total  Ambos sexos     2016  23.156,34"
      ]
     },
     "execution_count": 7,
     "metadata": {},
     "output_type": "execute_result"
    }
   ],
   "source": [
    "df_ganancias_sexoNacionalidad = pd.read_csv('..\\data\\Ganancia_anual_sexo&nac.csv', sep = '\\t')\n",
    "df_ganancias_sexoNacionalidad.head()"
   ]
  },
  {
   "cell_type": "code",
   "execution_count": 9,
   "metadata": {},
   "outputs": [
    {
     "data": {
      "text/html": [
       "<div>\n",
       "<style scoped>\n",
       "    .dataframe tbody tr th:only-of-type {\n",
       "        vertical-align: middle;\n",
       "    }\n",
       "\n",
       "    .dataframe tbody tr th {\n",
       "        vertical-align: top;\n",
       "    }\n",
       "\n",
       "    .dataframe thead th {\n",
       "        text-align: right;\n",
       "    }\n",
       "</style>\n",
       "<table border=\"1\" class=\"dataframe\">\n",
       "  <thead>\n",
       "    <tr style=\"text-align: right;\">\n",
       "      <th></th>\n",
       "      <th>Nacionalidad</th>\n",
       "      <th>Tipo de jornada</th>\n",
       "      <th>Decil</th>\n",
       "      <th>Periodo</th>\n",
       "      <th>Total</th>\n",
       "    </tr>\n",
       "  </thead>\n",
       "  <tbody>\n",
       "    <tr>\n",
       "      <th>0</th>\n",
       "      <td>Total</td>\n",
       "      <td>Jornada a tiempo completo</td>\n",
       "      <td>Total decil</td>\n",
       "      <td>2021</td>\n",
       "      <td>2.313,13</td>\n",
       "    </tr>\n",
       "    <tr>\n",
       "      <th>11</th>\n",
       "      <td>Española</td>\n",
       "      <td>Jornada a tiempo completo</td>\n",
       "      <td>Total decil</td>\n",
       "      <td>2021</td>\n",
       "      <td>2.396,34</td>\n",
       "    </tr>\n",
       "    <tr>\n",
       "      <th>22</th>\n",
       "      <td>Española y doble nacionalidad</td>\n",
       "      <td>Jornada a tiempo completo</td>\n",
       "      <td>Total decil</td>\n",
       "      <td>2021</td>\n",
       "      <td>1.945,53</td>\n",
       "    </tr>\n",
       "    <tr>\n",
       "      <th>33</th>\n",
       "      <td>Extranjera</td>\n",
       "      <td>Jornada a tiempo completo</td>\n",
       "      <td>Total decil</td>\n",
       "      <td>2021</td>\n",
       "      <td>1.821,24</td>\n",
       "    </tr>\n",
       "  </tbody>\n",
       "</table>\n",
       "</div>"
      ],
      "text/plain": [
       "                     Nacionalidad            Tipo de jornada        Decil  \\\n",
       "0                           Total  Jornada a tiempo completo  Total decil   \n",
       "11                       Española  Jornada a tiempo completo  Total decil   \n",
       "22  Española y doble nacionalidad  Jornada a tiempo completo  Total decil   \n",
       "33                     Extranjera  Jornada a tiempo completo  Total decil   \n",
       "\n",
       "    Periodo     Total  \n",
       "0      2021  2.313,13  \n",
       "11     2021  2.396,34  \n",
       "22     2021  1.945,53  \n",
       "33     2021  1.821,24  "
      ]
     },
     "execution_count": 9,
     "metadata": {},
     "output_type": "execute_result"
    }
   ],
   "source": [
    "ganancias2021 = pd.read_csv(\"..\\data\\Salarios mes 2021 .csv\", sep = '\\t', encoding='Latin1')\n",
    "ganancias2021[ganancias2021['Decil'] == 'Total decil']"
   ]
  },
  {
   "cell_type": "code",
   "execution_count": 10,
   "metadata": {},
   "outputs": [
    {
     "name": "stdout",
     "output_type": "stream",
     "text": [
      "<class 'pandas.core.frame.DataFrame'>\n",
      "RangeIndex: 273 entries, 0 to 272\n",
      "Data columns (total 4 columns):\n",
      " #   Column        Non-Null Count  Dtype \n",
      "---  ------        --------------  ----- \n",
      " 0   Nacionalidad  273 non-null    object\n",
      " 1   Sexo          273 non-null    object\n",
      " 2   Periodo       273 non-null    int64 \n",
      " 3   Total         273 non-null    object\n",
      "dtypes: int64(1), object(3)\n",
      "memory usage: 8.7+ KB\n"
     ]
    }
   ],
   "source": [
    "df_ganancias_sexoNacionalidad.info()"
   ]
  },
  {
   "attachments": {},
   "cell_type": "markdown",
   "metadata": {},
   "source": [
    "## LIMPIEZA DE DATOS ##"
   ]
  },
  {
   "attachments": {},
   "cell_type": "markdown",
   "metadata": {},
   "source": [
    "lo primero que tengo que hacer es convertir la columna total a float con el que pueda trabajar\n",
    "\n",
    "#nota: el '-' delante de los numeros (según leido en la documentacion de los datos procedentes de ine.es)significa una cantidad de muestreo mas reducida, pero no un numero negativo"
   ]
  },
  {
   "cell_type": "code",
   "execution_count": 11,
   "metadata": {},
   "outputs": [
    {
     "name": "stderr",
     "output_type": "stream",
     "text": [
      "C:\\Users\\rivas\\AppData\\Roaming\\Python\\Python37\\site-packages\\ipykernel_launcher.py:3: FutureWarning: The default value of regex will change from True to False in a future version. In addition, single character regular expressions will *not* be treated as literal strings when regex=True.\n",
      "  This is separate from the ipykernel package so we can avoid doing imports until\n"
     ]
    }
   ],
   "source": [
    "#hay alguna manera más elegante de hacer esto?\n",
    "\n",
    "df_ganancias_sexoNacionalidad['Total'] = df_ganancias_sexoNacionalidad['Total'].str.replace('.','')\n",
    "df_ganancias_sexoNacionalidad['Total'] = df_ganancias_sexoNacionalidad['Total'].str.replace(',','.')\n",
    "df_ganancias_sexoNacionalidad['Total'] = df_ganancias_sexoNacionalidad['Total'].str.replace('-','')\n"
   ]
  },
  {
   "cell_type": "code",
   "execution_count": 12,
   "metadata": {},
   "outputs": [
    {
     "data": {
      "text/plain": [
       "0      25165.51\n",
       "1      24395.98\n",
       "2      24009.12\n",
       "3      23646.50\n",
       "4      23156.34\n",
       "         ...   \n",
       "268    12887.57\n",
       "269    12526.02\n",
       "270    14229.75\n",
       "271    12174.59\n",
       "272    12774.99\n",
       "Name: Total, Length: 273, dtype: float64"
      ]
     },
     "execution_count": 12,
     "metadata": {},
     "output_type": "execute_result"
    }
   ],
   "source": [
    "#por alguna razon, al hacer esto se me genera un NaN en muj 2009 otros paises\n",
    "df_ganancias_sexoNacionalidad['Total'] = pd.to_numeric(df_ganancias_sexoNacionalidad['Total'])\n",
    "df_ganancias_sexoNacionalidad['Total']\n",
    "\n",
    "\n",
    "\n"
   ]
  },
  {
   "cell_type": "code",
   "execution_count": 13,
   "metadata": {},
   "outputs": [
    {
     "data": {
      "text/html": [
       "<div>\n",
       "<style scoped>\n",
       "    .dataframe tbody tr th:only-of-type {\n",
       "        vertical-align: middle;\n",
       "    }\n",
       "\n",
       "    .dataframe tbody tr th {\n",
       "        vertical-align: top;\n",
       "    }\n",
       "\n",
       "    .dataframe thead th {\n",
       "        text-align: right;\n",
       "    }\n",
       "</style>\n",
       "<table border=\"1\" class=\"dataframe\">\n",
       "  <thead>\n",
       "    <tr style=\"text-align: right;\">\n",
       "      <th></th>\n",
       "      <th>Nacionalidad</th>\n",
       "      <th>Sexo</th>\n",
       "      <th>Periodo</th>\n",
       "      <th>Total</th>\n",
       "    </tr>\n",
       "  </thead>\n",
       "  <tbody>\n",
       "    <tr>\n",
       "      <th>258</th>\n",
       "      <td>Otros países</td>\n",
       "      <td>Mujeres</td>\n",
       "      <td>2009</td>\n",
       "      <td>NaN</td>\n",
       "    </tr>\n",
       "  </tbody>\n",
       "</table>\n",
       "</div>"
      ],
      "text/plain": [
       "     Nacionalidad     Sexo  Periodo  Total\n",
       "258  Otros países  Mujeres     2009    NaN"
      ]
     },
     "execution_count": 13,
     "metadata": {},
     "output_type": "execute_result"
    }
   ],
   "source": [
    "#arreglar el NaN \n",
    "df_ganancias_sexoNacionalidad[df_ganancias_sexoNacionalidad['Total'].isnull()]"
   ]
  },
  {
   "cell_type": "code",
   "execution_count": 14,
   "metadata": {},
   "outputs": [
    {
     "data": {
      "text/plain": [
       "11856.730833333333"
      ]
     },
     "execution_count": 14,
     "metadata": {},
     "output_type": "execute_result"
    }
   ],
   "source": [
    "#quiero arreglar el NaN con la media de los demás años en otros paises 'mujeres'. \n",
    "df_ganancias_sexoNacionalidad[(df_ganancias_sexoNacionalidad['Nacionalidad'] == 'Otros países') & (df_ganancias_sexoNacionalidad['Sexo'] == 'Mujeres')]['Total'].mean()\n",
    "\n"
   ]
  },
  {
   "cell_type": "code",
   "execution_count": 15,
   "metadata": {},
   "outputs": [
    {
     "data": {
      "text/html": [
       "<div>\n",
       "<style scoped>\n",
       "    .dataframe tbody tr th:only-of-type {\n",
       "        vertical-align: middle;\n",
       "    }\n",
       "\n",
       "    .dataframe tbody tr th {\n",
       "        vertical-align: top;\n",
       "    }\n",
       "\n",
       "    .dataframe thead th {\n",
       "        text-align: right;\n",
       "    }\n",
       "</style>\n",
       "<table border=\"1\" class=\"dataframe\">\n",
       "  <thead>\n",
       "    <tr style=\"text-align: right;\">\n",
       "      <th></th>\n",
       "      <th>Nacionalidad</th>\n",
       "      <th>Sexo</th>\n",
       "      <th>Periodo</th>\n",
       "      <th>Total</th>\n",
       "    </tr>\n",
       "  </thead>\n",
       "  <tbody>\n",
       "    <tr>\n",
       "      <th>247</th>\n",
       "      <td>Otros países</td>\n",
       "      <td>Mujeres</td>\n",
       "      <td>2020</td>\n",
       "      <td>15742.510000</td>\n",
       "    </tr>\n",
       "    <tr>\n",
       "      <th>248</th>\n",
       "      <td>Otros países</td>\n",
       "      <td>Mujeres</td>\n",
       "      <td>2019</td>\n",
       "      <td>14444.860000</td>\n",
       "    </tr>\n",
       "    <tr>\n",
       "      <th>249</th>\n",
       "      <td>Otros países</td>\n",
       "      <td>Mujeres</td>\n",
       "      <td>2018</td>\n",
       "      <td>15127.930000</td>\n",
       "    </tr>\n",
       "    <tr>\n",
       "      <th>250</th>\n",
       "      <td>Otros países</td>\n",
       "      <td>Mujeres</td>\n",
       "      <td>2017</td>\n",
       "      <td>11144.560000</td>\n",
       "    </tr>\n",
       "    <tr>\n",
       "      <th>251</th>\n",
       "      <td>Otros países</td>\n",
       "      <td>Mujeres</td>\n",
       "      <td>2016</td>\n",
       "      <td>9459.960000</td>\n",
       "    </tr>\n",
       "    <tr>\n",
       "      <th>252</th>\n",
       "      <td>Otros países</td>\n",
       "      <td>Mujeres</td>\n",
       "      <td>2015</td>\n",
       "      <td>9269.160000</td>\n",
       "    </tr>\n",
       "    <tr>\n",
       "      <th>253</th>\n",
       "      <td>Otros países</td>\n",
       "      <td>Mujeres</td>\n",
       "      <td>2014</td>\n",
       "      <td>11108.650000</td>\n",
       "    </tr>\n",
       "    <tr>\n",
       "      <th>254</th>\n",
       "      <td>Otros países</td>\n",
       "      <td>Mujeres</td>\n",
       "      <td>2013</td>\n",
       "      <td>10073.560000</td>\n",
       "    </tr>\n",
       "    <tr>\n",
       "      <th>255</th>\n",
       "      <td>Otros países</td>\n",
       "      <td>Mujeres</td>\n",
       "      <td>2012</td>\n",
       "      <td>11486.400000</td>\n",
       "    </tr>\n",
       "    <tr>\n",
       "      <th>256</th>\n",
       "      <td>Otros países</td>\n",
       "      <td>Mujeres</td>\n",
       "      <td>2011</td>\n",
       "      <td>11355.960000</td>\n",
       "    </tr>\n",
       "    <tr>\n",
       "      <th>257</th>\n",
       "      <td>Otros países</td>\n",
       "      <td>Mujeres</td>\n",
       "      <td>2010</td>\n",
       "      <td>13145.770000</td>\n",
       "    </tr>\n",
       "    <tr>\n",
       "      <th>258</th>\n",
       "      <td>Otros países</td>\n",
       "      <td>Mujeres</td>\n",
       "      <td>2009</td>\n",
       "      <td>11856.730833</td>\n",
       "    </tr>\n",
       "    <tr>\n",
       "      <th>259</th>\n",
       "      <td>Otros países</td>\n",
       "      <td>Mujeres</td>\n",
       "      <td>2008</td>\n",
       "      <td>9921.450000</td>\n",
       "    </tr>\n",
       "  </tbody>\n",
       "</table>\n",
       "</div>"
      ],
      "text/plain": [
       "     Nacionalidad     Sexo  Periodo         Total\n",
       "247  Otros países  Mujeres     2020  15742.510000\n",
       "248  Otros países  Mujeres     2019  14444.860000\n",
       "249  Otros países  Mujeres     2018  15127.930000\n",
       "250  Otros países  Mujeres     2017  11144.560000\n",
       "251  Otros países  Mujeres     2016   9459.960000\n",
       "252  Otros países  Mujeres     2015   9269.160000\n",
       "253  Otros países  Mujeres     2014  11108.650000\n",
       "254  Otros países  Mujeres     2013  10073.560000\n",
       "255  Otros países  Mujeres     2012  11486.400000\n",
       "256  Otros países  Mujeres     2011  11355.960000\n",
       "257  Otros países  Mujeres     2010  13145.770000\n",
       "258  Otros países  Mujeres     2009  11856.730833\n",
       "259  Otros países  Mujeres     2008   9921.450000"
      ]
     },
     "execution_count": 15,
     "metadata": {},
     "output_type": "execute_result"
    }
   ],
   "source": [
    "df_ganancias_sexoNacionalidad['Total'].fillna(df_ganancias_sexoNacionalidad[(df_ganancias_sexoNacionalidad['Nacionalidad'] == 'Otros países') & (df_ganancias_sexoNacionalidad['Sexo'] == 'Mujeres')]['Total'].mean(), inplace= True)\n",
    "df_ganancias_sexoNacionalidad[(df_ganancias_sexoNacionalidad['Nacionalidad'] == 'Otros países') & (df_ganancias_sexoNacionalidad['Sexo'] == 'Mujeres')]"
   ]
  },
  {
   "cell_type": "code",
   "execution_count": 40,
   "metadata": {},
   "outputs": [],
   "source": [
    "#convertimos periodo a string porque no me interesa tratar los años como int\n",
    "# df_ganancias_sexoNacionalidad['Periodo'] = df_ganancias_sexoNacionalidad['Periodo'].to_string()"
   ]
  },
  {
   "cell_type": "code",
   "execution_count": 16,
   "metadata": {},
   "outputs": [
    {
     "name": "stdout",
     "output_type": "stream",
     "text": [
      "<class 'pandas.core.frame.DataFrame'>\n",
      "RangeIndex: 273 entries, 0 to 272\n",
      "Data columns (total 4 columns):\n",
      " #   Column        Non-Null Count  Dtype  \n",
      "---  ------        --------------  -----  \n",
      " 0   Nacionalidad  273 non-null    object \n",
      " 1   Sexo          273 non-null    object \n",
      " 2   Periodo       273 non-null    int64  \n",
      " 3   Total         273 non-null    float64\n",
      "dtypes: float64(1), int64(1), object(2)\n",
      "memory usage: 8.7+ KB\n"
     ]
    }
   ],
   "source": [
    "df_ganancias_sexoNacionalidad.info()"
   ]
  },
  {
   "cell_type": "code",
   "execution_count": 112,
   "metadata": {},
   "outputs": [],
   "source": [
    "#conversión hecha. Ahora puedo hacer un groupby y ver cosas interesantes\n",
    "\n"
   ]
  },
  {
   "cell_type": "code",
   "execution_count": 17,
   "metadata": {},
   "outputs": [
    {
     "data": {
      "text/plain": [
       "Total                         39\n",
       "Española                      39\n",
       "País de la UE28 sin España    39\n",
       "País de Europa menos UE28     39\n",
       "De Africa                     39\n",
       "De América                    39\n",
       "Otros países                  39\n",
       "Name: Nacionalidad, dtype: int64"
      ]
     },
     "execution_count": 17,
     "metadata": {},
     "output_type": "execute_result"
    }
   ],
   "source": [
    "df_ganancias_sexoNacionalidad.Nacionalidad.value_counts()"
   ]
  },
  {
   "cell_type": "code",
   "execution_count": 18,
   "metadata": {},
   "outputs": [],
   "source": [
    "pd.set_option('display.max_rows', 300)"
   ]
  },
  {
   "cell_type": "code",
   "execution_count": 19,
   "metadata": {},
   "outputs": [
    {
     "data": {
      "text/html": [
       "<div>\n",
       "<style scoped>\n",
       "    .dataframe tbody tr th:only-of-type {\n",
       "        vertical-align: middle;\n",
       "    }\n",
       "\n",
       "    .dataframe tbody tr th {\n",
       "        vertical-align: top;\n",
       "    }\n",
       "\n",
       "    .dataframe thead th {\n",
       "        text-align: right;\n",
       "    }\n",
       "</style>\n",
       "<table border=\"1\" class=\"dataframe\">\n",
       "  <thead>\n",
       "    <tr style=\"text-align: right;\">\n",
       "      <th></th>\n",
       "      <th>Nacionalidad</th>\n",
       "      <th>Sexo</th>\n",
       "      <th>Periodo</th>\n",
       "      <th>Total</th>\n",
       "    </tr>\n",
       "  </thead>\n",
       "  <tbody>\n",
       "    <tr>\n",
       "      <th>0</th>\n",
       "      <td>De Africa</td>\n",
       "      <td>Ambos sexos</td>\n",
       "      <td>2014.0</td>\n",
       "      <td>15283.835385</td>\n",
       "    </tr>\n",
       "    <tr>\n",
       "      <th>1</th>\n",
       "      <td>De Africa</td>\n",
       "      <td>Hombres</td>\n",
       "      <td>2014.0</td>\n",
       "      <td>16267.888462</td>\n",
       "    </tr>\n",
       "    <tr>\n",
       "      <th>2</th>\n",
       "      <td>De Africa</td>\n",
       "      <td>Mujeres</td>\n",
       "      <td>2014.0</td>\n",
       "      <td>12103.980000</td>\n",
       "    </tr>\n",
       "    <tr>\n",
       "      <th>3</th>\n",
       "      <td>De América</td>\n",
       "      <td>Ambos sexos</td>\n",
       "      <td>2014.0</td>\n",
       "      <td>14997.710769</td>\n",
       "    </tr>\n",
       "    <tr>\n",
       "      <th>4</th>\n",
       "      <td>De América</td>\n",
       "      <td>Hombres</td>\n",
       "      <td>2014.0</td>\n",
       "      <td>16623.798462</td>\n",
       "    </tr>\n",
       "    <tr>\n",
       "      <th>5</th>\n",
       "      <td>De América</td>\n",
       "      <td>Mujeres</td>\n",
       "      <td>2014.0</td>\n",
       "      <td>13079.199231</td>\n",
       "    </tr>\n",
       "    <tr>\n",
       "      <th>6</th>\n",
       "      <td>Española</td>\n",
       "      <td>Ambos sexos</td>\n",
       "      <td>2014.0</td>\n",
       "      <td>23711.827692</td>\n",
       "    </tr>\n",
       "    <tr>\n",
       "      <th>7</th>\n",
       "      <td>Española</td>\n",
       "      <td>Hombres</td>\n",
       "      <td>2014.0</td>\n",
       "      <td>26567.420769</td>\n",
       "    </tr>\n",
       "    <tr>\n",
       "      <th>8</th>\n",
       "      <td>Española</td>\n",
       "      <td>Mujeres</td>\n",
       "      <td>2014.0</td>\n",
       "      <td>20586.678462</td>\n",
       "    </tr>\n",
       "    <tr>\n",
       "      <th>9</th>\n",
       "      <td>Otros países</td>\n",
       "      <td>Ambos sexos</td>\n",
       "      <td>2014.0</td>\n",
       "      <td>13584.080769</td>\n",
       "    </tr>\n",
       "    <tr>\n",
       "      <th>10</th>\n",
       "      <td>Otros países</td>\n",
       "      <td>Hombres</td>\n",
       "      <td>2014.0</td>\n",
       "      <td>14359.201538</td>\n",
       "    </tr>\n",
       "    <tr>\n",
       "      <th>11</th>\n",
       "      <td>Otros países</td>\n",
       "      <td>Mujeres</td>\n",
       "      <td>2014.0</td>\n",
       "      <td>11856.730833</td>\n",
       "    </tr>\n",
       "    <tr>\n",
       "      <th>12</th>\n",
       "      <td>País de Europa menos UE28</td>\n",
       "      <td>Ambos sexos</td>\n",
       "      <td>2014.0</td>\n",
       "      <td>15965.481538</td>\n",
       "    </tr>\n",
       "    <tr>\n",
       "      <th>13</th>\n",
       "      <td>País de Europa menos UE28</td>\n",
       "      <td>Hombres</td>\n",
       "      <td>2014.0</td>\n",
       "      <td>18498.437692</td>\n",
       "    </tr>\n",
       "    <tr>\n",
       "      <th>14</th>\n",
       "      <td>País de Europa menos UE28</td>\n",
       "      <td>Mujeres</td>\n",
       "      <td>2014.0</td>\n",
       "      <td>13925.209231</td>\n",
       "    </tr>\n",
       "    <tr>\n",
       "      <th>15</th>\n",
       "      <td>País de la UE28 sin España</td>\n",
       "      <td>Ambos sexos</td>\n",
       "      <td>2014.0</td>\n",
       "      <td>19074.315385</td>\n",
       "    </tr>\n",
       "    <tr>\n",
       "      <th>16</th>\n",
       "      <td>País de la UE28 sin España</td>\n",
       "      <td>Hombres</td>\n",
       "      <td>2014.0</td>\n",
       "      <td>21491.463846</td>\n",
       "    </tr>\n",
       "    <tr>\n",
       "      <th>17</th>\n",
       "      <td>País de la UE28 sin España</td>\n",
       "      <td>Mujeres</td>\n",
       "      <td>2014.0</td>\n",
       "      <td>16247.573846</td>\n",
       "    </tr>\n",
       "    <tr>\n",
       "      <th>18</th>\n",
       "      <td>Total</td>\n",
       "      <td>Ambos sexos</td>\n",
       "      <td>2014.0</td>\n",
       "      <td>23218.973846</td>\n",
       "    </tr>\n",
       "    <tr>\n",
       "      <th>19</th>\n",
       "      <td>Total</td>\n",
       "      <td>Hombres</td>\n",
       "      <td>2014.0</td>\n",
       "      <td>25927.737692</td>\n",
       "    </tr>\n",
       "    <tr>\n",
       "      <th>20</th>\n",
       "      <td>Total</td>\n",
       "      <td>Mujeres</td>\n",
       "      <td>2014.0</td>\n",
       "      <td>20204.954615</td>\n",
       "    </tr>\n",
       "  </tbody>\n",
       "</table>\n",
       "</div>"
      ],
      "text/plain": [
       "                  Nacionalidad         Sexo  Periodo         Total\n",
       "0                    De Africa  Ambos sexos   2014.0  15283.835385\n",
       "1                    De Africa      Hombres   2014.0  16267.888462\n",
       "2                    De Africa      Mujeres   2014.0  12103.980000\n",
       "3                   De América  Ambos sexos   2014.0  14997.710769\n",
       "4                   De América      Hombres   2014.0  16623.798462\n",
       "5                   De América      Mujeres   2014.0  13079.199231\n",
       "6                     Española  Ambos sexos   2014.0  23711.827692\n",
       "7                     Española      Hombres   2014.0  26567.420769\n",
       "8                     Española      Mujeres   2014.0  20586.678462\n",
       "9                 Otros países  Ambos sexos   2014.0  13584.080769\n",
       "10                Otros países      Hombres   2014.0  14359.201538\n",
       "11                Otros países      Mujeres   2014.0  11856.730833\n",
       "12   País de Europa menos UE28  Ambos sexos   2014.0  15965.481538\n",
       "13   País de Europa menos UE28      Hombres   2014.0  18498.437692\n",
       "14   País de Europa menos UE28      Mujeres   2014.0  13925.209231\n",
       "15  País de la UE28 sin España  Ambos sexos   2014.0  19074.315385\n",
       "16  País de la UE28 sin España      Hombres   2014.0  21491.463846\n",
       "17  País de la UE28 sin España      Mujeres   2014.0  16247.573846\n",
       "18                       Total  Ambos sexos   2014.0  23218.973846\n",
       "19                       Total      Hombres   2014.0  25927.737692\n",
       "20                       Total      Mujeres   2014.0  20204.954615"
      ]
     },
     "execution_count": 19,
     "metadata": {},
     "output_type": "execute_result"
    }
   ],
   "source": [
    "df_grouped = pd.DataFrame(df_ganancias_sexoNacionalidad.groupby([('Nacionalidad'),('Sexo')], as_index=False).mean())\n",
    "df_grouped\n",
    "#Media por lugar de origen y sexo de 2008 a 2020"
   ]
  },
  {
   "cell_type": "code",
   "execution_count": 20,
   "metadata": {},
   "outputs": [
    {
     "data": {
      "text/html": [
       "<div>\n",
       "<style scoped>\n",
       "    .dataframe tbody tr th:only-of-type {\n",
       "        vertical-align: middle;\n",
       "    }\n",
       "\n",
       "    .dataframe tbody tr th {\n",
       "        vertical-align: top;\n",
       "    }\n",
       "\n",
       "    .dataframe thead th {\n",
       "        text-align: right;\n",
       "    }\n",
       "</style>\n",
       "<table border=\"1\" class=\"dataframe\">\n",
       "  <thead>\n",
       "    <tr style=\"text-align: right;\">\n",
       "      <th></th>\n",
       "      <th>Nacionalidad</th>\n",
       "      <th>Sexo</th>\n",
       "      <th>Periodo</th>\n",
       "      <th>Total</th>\n",
       "    </tr>\n",
       "  </thead>\n",
       "  <tbody>\n",
       "    <tr>\n",
       "      <th>0</th>\n",
       "      <td>Total</td>\n",
       "      <td>Ambos sexos</td>\n",
       "      <td>2020</td>\n",
       "      <td>25165.51</td>\n",
       "    </tr>\n",
       "    <tr>\n",
       "      <th>1</th>\n",
       "      <td>Total</td>\n",
       "      <td>Ambos sexos</td>\n",
       "      <td>2019</td>\n",
       "      <td>24395.98</td>\n",
       "    </tr>\n",
       "    <tr>\n",
       "      <th>2</th>\n",
       "      <td>Total</td>\n",
       "      <td>Ambos sexos</td>\n",
       "      <td>2018</td>\n",
       "      <td>24009.12</td>\n",
       "    </tr>\n",
       "    <tr>\n",
       "      <th>3</th>\n",
       "      <td>Total</td>\n",
       "      <td>Ambos sexos</td>\n",
       "      <td>2017</td>\n",
       "      <td>23646.50</td>\n",
       "    </tr>\n",
       "    <tr>\n",
       "      <th>4</th>\n",
       "      <td>Total</td>\n",
       "      <td>Ambos sexos</td>\n",
       "      <td>2016</td>\n",
       "      <td>23156.34</td>\n",
       "    </tr>\n",
       "  </tbody>\n",
       "</table>\n",
       "</div>"
      ],
      "text/plain": [
       "  Nacionalidad         Sexo  Periodo     Total\n",
       "0        Total  Ambos sexos     2020  25165.51\n",
       "1        Total  Ambos sexos     2019  24395.98\n",
       "2        Total  Ambos sexos     2018  24009.12\n",
       "3        Total  Ambos sexos     2017  23646.50\n",
       "4        Total  Ambos sexos     2016  23156.34"
      ]
     },
     "execution_count": 20,
     "metadata": {},
     "output_type": "execute_result"
    }
   ],
   "source": [
    "df_ganancias_sexoNacionalidad.head()"
   ]
  },
  {
   "cell_type": "code",
   "execution_count": 21,
   "metadata": {},
   "outputs": [
    {
     "data": {
      "text/html": [
       "<div>\n",
       "<style scoped>\n",
       "    .dataframe tbody tr th:only-of-type {\n",
       "        vertical-align: middle;\n",
       "    }\n",
       "\n",
       "    .dataframe tbody tr th {\n",
       "        vertical-align: top;\n",
       "    }\n",
       "\n",
       "    .dataframe thead th {\n",
       "        text-align: right;\n",
       "    }\n",
       "</style>\n",
       "<table border=\"1\" class=\"dataframe\">\n",
       "  <thead>\n",
       "    <tr style=\"text-align: right;\">\n",
       "      <th></th>\n",
       "      <th></th>\n",
       "      <th>Total</th>\n",
       "    </tr>\n",
       "    <tr>\n",
       "      <th>Periodo</th>\n",
       "      <th>Nacionalidad</th>\n",
       "      <th></th>\n",
       "    </tr>\n",
       "  </thead>\n",
       "  <tbody>\n",
       "    <tr>\n",
       "      <th rowspan=\"7\" valign=\"top\">2008</th>\n",
       "      <th>De Africa</th>\n",
       "      <td>13727.660000</td>\n",
       "    </tr>\n",
       "    <tr>\n",
       "      <th>De América</th>\n",
       "      <td>13872.893333</td>\n",
       "    </tr>\n",
       "    <tr>\n",
       "      <th>Española</th>\n",
       "      <td>22271.040000</td>\n",
       "    </tr>\n",
       "    <tr>\n",
       "      <th>Otros países</th>\n",
       "      <td>11531.070000</td>\n",
       "    </tr>\n",
       "    <tr>\n",
       "      <th>País de Europa menos UE28</th>\n",
       "      <td>14336.993333</td>\n",
       "    </tr>\n",
       "    <tr>\n",
       "      <th>País de la UE28 sin España</th>\n",
       "      <td>16609.030000</td>\n",
       "    </tr>\n",
       "    <tr>\n",
       "      <th>Total</th>\n",
       "      <td>21665.790000</td>\n",
       "    </tr>\n",
       "    <tr>\n",
       "      <th rowspan=\"7\" valign=\"top\">2009</th>\n",
       "      <th>De Africa</th>\n",
       "      <td>14626.326667</td>\n",
       "    </tr>\n",
       "    <tr>\n",
       "      <th>De América</th>\n",
       "      <td>14100.306667</td>\n",
       "    </tr>\n",
       "    <tr>\n",
       "      <th>Española</th>\n",
       "      <td>22853.713333</td>\n",
       "    </tr>\n",
       "    <tr>\n",
       "      <th>Otros países</th>\n",
       "      <td>11966.543611</td>\n",
       "    </tr>\n",
       "    <tr>\n",
       "      <th>País de Europa menos UE28</th>\n",
       "      <td>14260.880000</td>\n",
       "    </tr>\n",
       "    <tr>\n",
       "      <th>País de la UE28 sin España</th>\n",
       "      <td>16988.690000</td>\n",
       "    </tr>\n",
       "    <tr>\n",
       "      <th>Total</th>\n",
       "      <td>22338.180000</td>\n",
       "    </tr>\n",
       "    <tr>\n",
       "      <th rowspan=\"7\" valign=\"top\">2010</th>\n",
       "      <th>De Africa</th>\n",
       "      <td>14711.856667</td>\n",
       "    </tr>\n",
       "    <tr>\n",
       "      <th>De América</th>\n",
       "      <td>14839.476667</td>\n",
       "    </tr>\n",
       "    <tr>\n",
       "      <th>Española</th>\n",
       "      <td>23224.333333</td>\n",
       "    </tr>\n",
       "    <tr>\n",
       "      <th>Otros países</th>\n",
       "      <td>13780.076667</td>\n",
       "    </tr>\n",
       "    <tr>\n",
       "      <th>País de Europa menos UE28</th>\n",
       "      <td>16450.946667</td>\n",
       "    </tr>\n",
       "    <tr>\n",
       "      <th>País de la UE28 sin España</th>\n",
       "      <td>18479.363333</td>\n",
       "    </tr>\n",
       "    <tr>\n",
       "      <th>Total</th>\n",
       "      <td>22668.386667</td>\n",
       "    </tr>\n",
       "    <tr>\n",
       "      <th rowspan=\"7\" valign=\"top\">2011</th>\n",
       "      <th>De Africa</th>\n",
       "      <td>14877.810000</td>\n",
       "    </tr>\n",
       "    <tr>\n",
       "      <th>De América</th>\n",
       "      <td>14803.553333</td>\n",
       "    </tr>\n",
       "    <tr>\n",
       "      <th>Española</th>\n",
       "      <td>23319.046667</td>\n",
       "    </tr>\n",
       "    <tr>\n",
       "      <th>Otros países</th>\n",
       "      <td>12050.176667</td>\n",
       "    </tr>\n",
       "    <tr>\n",
       "      <th>País de Europa menos UE28</th>\n",
       "      <td>16865.826667</td>\n",
       "    </tr>\n",
       "    <tr>\n",
       "      <th>País de la UE28 sin España</th>\n",
       "      <td>17739.256667</td>\n",
       "    </tr>\n",
       "    <tr>\n",
       "      <th>Total</th>\n",
       "      <td>22778.276667</td>\n",
       "    </tr>\n",
       "    <tr>\n",
       "      <th rowspan=\"7\" valign=\"top\">2012</th>\n",
       "      <th>De Africa</th>\n",
       "      <td>14350.733333</td>\n",
       "    </tr>\n",
       "    <tr>\n",
       "      <th>De América</th>\n",
       "      <td>14626.030000</td>\n",
       "    </tr>\n",
       "    <tr>\n",
       "      <th>Española</th>\n",
       "      <td>23159.836667</td>\n",
       "    </tr>\n",
       "    <tr>\n",
       "      <th>Otros países</th>\n",
       "      <td>12271.213333</td>\n",
       "    </tr>\n",
       "    <tr>\n",
       "      <th>País de Europa menos UE28</th>\n",
       "      <td>14710.400000</td>\n",
       "    </tr>\n",
       "    <tr>\n",
       "      <th>País de la UE28 sin España</th>\n",
       "      <td>17376.920000</td>\n",
       "    </tr>\n",
       "    <tr>\n",
       "      <th>Total</th>\n",
       "      <td>22648.606667</td>\n",
       "    </tr>\n",
       "    <tr>\n",
       "      <th rowspan=\"7\" valign=\"top\">2013</th>\n",
       "      <th>De Africa</th>\n",
       "      <td>13753.813333</td>\n",
       "    </tr>\n",
       "    <tr>\n",
       "      <th>De América</th>\n",
       "      <td>14200.920000</td>\n",
       "    </tr>\n",
       "    <tr>\n",
       "      <th>Española</th>\n",
       "      <td>23122.443333</td>\n",
       "    </tr>\n",
       "    <tr>\n",
       "      <th>Otros países</th>\n",
       "      <td>11629.086667</td>\n",
       "    </tr>\n",
       "    <tr>\n",
       "      <th>País de Europa menos UE28</th>\n",
       "      <td>15306.353333</td>\n",
       "    </tr>\n",
       "    <tr>\n",
       "      <th>País de la UE28 sin España</th>\n",
       "      <td>17907.673333</td>\n",
       "    </tr>\n",
       "    <tr>\n",
       "      <th>Total</th>\n",
       "      <td>22629.203333</td>\n",
       "    </tr>\n",
       "    <tr>\n",
       "      <th rowspan=\"7\" valign=\"top\">2014</th>\n",
       "      <th>De Africa</th>\n",
       "      <td>14180.720000</td>\n",
       "    </tr>\n",
       "    <tr>\n",
       "      <th>De América</th>\n",
       "      <td>14884.463333</td>\n",
       "    </tr>\n",
       "    <tr>\n",
       "      <th>Española</th>\n",
       "      <td>23170.520000</td>\n",
       "    </tr>\n",
       "    <tr>\n",
       "      <th>Otros países</th>\n",
       "      <td>13041.813333</td>\n",
       "    </tr>\n",
       "    <tr>\n",
       "      <th>País de Europa menos UE28</th>\n",
       "      <td>15567.433333</td>\n",
       "    </tr>\n",
       "    <tr>\n",
       "      <th>País de la UE28 sin España</th>\n",
       "      <td>20219.003333</td>\n",
       "    </tr>\n",
       "    <tr>\n",
       "      <th>Total</th>\n",
       "      <td>22776.743333</td>\n",
       "    </tr>\n",
       "    <tr>\n",
       "      <th rowspan=\"7\" valign=\"top\">2015</th>\n",
       "      <th>De Africa</th>\n",
       "      <td>14212.940000</td>\n",
       "    </tr>\n",
       "    <tr>\n",
       "      <th>De América</th>\n",
       "      <td>14563.000000</td>\n",
       "    </tr>\n",
       "    <tr>\n",
       "      <th>Española</th>\n",
       "      <td>23499.093333</td>\n",
       "    </tr>\n",
       "    <tr>\n",
       "      <th>Otros países</th>\n",
       "      <td>11995.340000</td>\n",
       "    </tr>\n",
       "    <tr>\n",
       "      <th>País de Europa menos UE28</th>\n",
       "      <td>15827.230000</td>\n",
       "    </tr>\n",
       "    <tr>\n",
       "      <th>País de la UE28 sin España</th>\n",
       "      <td>19070.456667</td>\n",
       "    </tr>\n",
       "    <tr>\n",
       "      <th>Total</th>\n",
       "      <td>23050.213333</td>\n",
       "    </tr>\n",
       "    <tr>\n",
       "      <th rowspan=\"7\" valign=\"top\">2016</th>\n",
       "      <th>De Africa</th>\n",
       "      <td>13425.633333</td>\n",
       "    </tr>\n",
       "    <tr>\n",
       "      <th>De América</th>\n",
       "      <td>14531.210000</td>\n",
       "    </tr>\n",
       "    <tr>\n",
       "      <th>Española</th>\n",
       "      <td>23538.093333</td>\n",
       "    </tr>\n",
       "    <tr>\n",
       "      <th>Otros países</th>\n",
       "      <td>12608.913333</td>\n",
       "    </tr>\n",
       "    <tr>\n",
       "      <th>País de Europa menos UE28</th>\n",
       "      <td>15718.776667</td>\n",
       "    </tr>\n",
       "    <tr>\n",
       "      <th>País de la UE28 sin España</th>\n",
       "      <td>18764.213333</td>\n",
       "    </tr>\n",
       "    <tr>\n",
       "      <th>Total</th>\n",
       "      <td>23070.726667</td>\n",
       "    </tr>\n",
       "    <tr>\n",
       "      <th rowspan=\"7\" valign=\"top\">2017</th>\n",
       "      <th>De Africa</th>\n",
       "      <td>13918.226667</td>\n",
       "    </tr>\n",
       "    <tr>\n",
       "      <th>De América</th>\n",
       "      <td>15192.936667</td>\n",
       "    </tr>\n",
       "    <tr>\n",
       "      <th>Española</th>\n",
       "      <td>24035.583333</td>\n",
       "    </tr>\n",
       "    <tr>\n",
       "      <th>Otros países</th>\n",
       "      <td>13302.683333</td>\n",
       "    </tr>\n",
       "    <tr>\n",
       "      <th>País de Europa menos UE28</th>\n",
       "      <td>16447.643333</td>\n",
       "    </tr>\n",
       "    <tr>\n",
       "      <th>País de la UE28 sin España</th>\n",
       "      <td>19805.086667</td>\n",
       "    </tr>\n",
       "    <tr>\n",
       "      <th>Total</th>\n",
       "      <td>23548.730000</td>\n",
       "    </tr>\n",
       "    <tr>\n",
       "      <th rowspan=\"7\" valign=\"top\">2018</th>\n",
       "      <th>De Africa</th>\n",
       "      <td>15603.196667</td>\n",
       "    </tr>\n",
       "    <tr>\n",
       "      <th>De América</th>\n",
       "      <td>16319.640000</td>\n",
       "    </tr>\n",
       "    <tr>\n",
       "      <th>Española</th>\n",
       "      <td>24369.510000</td>\n",
       "    </tr>\n",
       "    <tr>\n",
       "      <th>Otros países</th>\n",
       "      <td>16141.273333</td>\n",
       "    </tr>\n",
       "    <tr>\n",
       "      <th>País de Europa menos UE28</th>\n",
       "      <td>16858.016667</td>\n",
       "    </tr>\n",
       "    <tr>\n",
       "      <th>País de la UE28 sin España</th>\n",
       "      <td>20841.193333</td>\n",
       "    </tr>\n",
       "    <tr>\n",
       "      <th>Total</th>\n",
       "      <td>23919.733333</td>\n",
       "    </tr>\n",
       "    <tr>\n",
       "      <th rowspan=\"7\" valign=\"top\">2019</th>\n",
       "      <th>De Africa</th>\n",
       "      <td>15722.110000</td>\n",
       "    </tr>\n",
       "    <tr>\n",
       "      <th>De América</th>\n",
       "      <td>15733.043333</td>\n",
       "    </tr>\n",
       "    <tr>\n",
       "      <th>Española</th>\n",
       "      <td>24889.876667</td>\n",
       "    </tr>\n",
       "    <tr>\n",
       "      <th>Otros países</th>\n",
       "      <td>15831.713333</td>\n",
       "    </tr>\n",
       "    <tr>\n",
       "      <th>País de Europa menos UE28</th>\n",
       "      <td>17352.070000</td>\n",
       "    </tr>\n",
       "    <tr>\n",
       "      <th>País de la UE28 sin España</th>\n",
       "      <td>20715.093333</td>\n",
       "    </tr>\n",
       "    <tr>\n",
       "      <th>Total</th>\n",
       "      <td>24337.460000</td>\n",
       "    </tr>\n",
       "    <tr>\n",
       "      <th rowspan=\"7\" valign=\"top\">2020</th>\n",
       "      <th>De Africa</th>\n",
       "      <td>16063.690000</td>\n",
       "    </tr>\n",
       "    <tr>\n",
       "      <th>De América</th>\n",
       "      <td>16035.596667</td>\n",
       "    </tr>\n",
       "    <tr>\n",
       "      <th>Española</th>\n",
       "      <td>25632.593333</td>\n",
       "    </tr>\n",
       "    <tr>\n",
       "      <th>Otros países</th>\n",
       "      <td>16316.820000</td>\n",
       "    </tr>\n",
       "    <tr>\n",
       "      <th>País de Europa menos UE28</th>\n",
       "      <td>19983.653333</td>\n",
       "    </tr>\n",
       "    <tr>\n",
       "      <th>País de la UE28 sin España</th>\n",
       "      <td>21675.216667</td>\n",
       "    </tr>\n",
       "    <tr>\n",
       "      <th>Total</th>\n",
       "      <td>25091.836667</td>\n",
       "    </tr>\n",
       "  </tbody>\n",
       "</table>\n",
       "</div>"
      ],
      "text/plain": [
       "                                           Total\n",
       "Periodo Nacionalidad                            \n",
       "2008    De Africa                   13727.660000\n",
       "        De América                  13872.893333\n",
       "        Española                    22271.040000\n",
       "        Otros países                11531.070000\n",
       "        País de Europa menos UE28   14336.993333\n",
       "        País de la UE28 sin España  16609.030000\n",
       "        Total                       21665.790000\n",
       "2009    De Africa                   14626.326667\n",
       "        De América                  14100.306667\n",
       "        Española                    22853.713333\n",
       "        Otros países                11966.543611\n",
       "        País de Europa menos UE28   14260.880000\n",
       "        País de la UE28 sin España  16988.690000\n",
       "        Total                       22338.180000\n",
       "2010    De Africa                   14711.856667\n",
       "        De América                  14839.476667\n",
       "        Española                    23224.333333\n",
       "        Otros países                13780.076667\n",
       "        País de Europa menos UE28   16450.946667\n",
       "        País de la UE28 sin España  18479.363333\n",
       "        Total                       22668.386667\n",
       "2011    De Africa                   14877.810000\n",
       "        De América                  14803.553333\n",
       "        Española                    23319.046667\n",
       "        Otros países                12050.176667\n",
       "        País de Europa menos UE28   16865.826667\n",
       "        País de la UE28 sin España  17739.256667\n",
       "        Total                       22778.276667\n",
       "2012    De Africa                   14350.733333\n",
       "        De América                  14626.030000\n",
       "        Española                    23159.836667\n",
       "        Otros países                12271.213333\n",
       "        País de Europa menos UE28   14710.400000\n",
       "        País de la UE28 sin España  17376.920000\n",
       "        Total                       22648.606667\n",
       "2013    De Africa                   13753.813333\n",
       "        De América                  14200.920000\n",
       "        Española                    23122.443333\n",
       "        Otros países                11629.086667\n",
       "        País de Europa menos UE28   15306.353333\n",
       "        País de la UE28 sin España  17907.673333\n",
       "        Total                       22629.203333\n",
       "2014    De Africa                   14180.720000\n",
       "        De América                  14884.463333\n",
       "        Española                    23170.520000\n",
       "        Otros países                13041.813333\n",
       "        País de Europa menos UE28   15567.433333\n",
       "        País de la UE28 sin España  20219.003333\n",
       "        Total                       22776.743333\n",
       "2015    De Africa                   14212.940000\n",
       "        De América                  14563.000000\n",
       "        Española                    23499.093333\n",
       "        Otros países                11995.340000\n",
       "        País de Europa menos UE28   15827.230000\n",
       "        País de la UE28 sin España  19070.456667\n",
       "        Total                       23050.213333\n",
       "2016    De Africa                   13425.633333\n",
       "        De América                  14531.210000\n",
       "        Española                    23538.093333\n",
       "        Otros países                12608.913333\n",
       "        País de Europa menos UE28   15718.776667\n",
       "        País de la UE28 sin España  18764.213333\n",
       "        Total                       23070.726667\n",
       "2017    De Africa                   13918.226667\n",
       "        De América                  15192.936667\n",
       "        Española                    24035.583333\n",
       "        Otros países                13302.683333\n",
       "        País de Europa menos UE28   16447.643333\n",
       "        País de la UE28 sin España  19805.086667\n",
       "        Total                       23548.730000\n",
       "2018    De Africa                   15603.196667\n",
       "        De América                  16319.640000\n",
       "        Española                    24369.510000\n",
       "        Otros países                16141.273333\n",
       "        País de Europa menos UE28   16858.016667\n",
       "        País de la UE28 sin España  20841.193333\n",
       "        Total                       23919.733333\n",
       "2019    De Africa                   15722.110000\n",
       "        De América                  15733.043333\n",
       "        Española                    24889.876667\n",
       "        Otros países                15831.713333\n",
       "        País de Europa menos UE28   17352.070000\n",
       "        País de la UE28 sin España  20715.093333\n",
       "        Total                       24337.460000\n",
       "2020    De Africa                   16063.690000\n",
       "        De América                  16035.596667\n",
       "        Española                    25632.593333\n",
       "        Otros países                16316.820000\n",
       "        País de Europa menos UE28   19983.653333\n",
       "        País de la UE28 sin España  21675.216667\n",
       "        Total                       25091.836667"
      ]
     },
     "execution_count": 21,
     "metadata": {},
     "output_type": "execute_result"
    }
   ],
   "source": [
    "df_ganancias_sexoNacionalidad.groupby(['Periodo','Nacionalidad']).mean()"
   ]
  },
  {
   "attachments": {},
   "cell_type": "markdown",
   "metadata": {},
   "source": [
    "### Gráficas y correlaciones ###\n"
   ]
  },
  {
   "cell_type": "code",
   "execution_count": 23,
   "metadata": {},
   "outputs": [],
   "source": [
    "import pandas as pd\n",
    "import matplotlib.pyplot as plt\n",
    "import seaborn as sns\n",
    "import plotly.graph_objects as go\n",
    "from plotly.offline import iplot"
   ]
  },
  {
   "cell_type": "code",
   "execution_count": 22,
   "metadata": {},
   "outputs": [
    {
     "data": {
      "text/html": [
       "<div>\n",
       "<style scoped>\n",
       "    .dataframe tbody tr th:only-of-type {\n",
       "        vertical-align: middle;\n",
       "    }\n",
       "\n",
       "    .dataframe tbody tr th {\n",
       "        vertical-align: top;\n",
       "    }\n",
       "\n",
       "    .dataframe thead th {\n",
       "        text-align: right;\n",
       "    }\n",
       "</style>\n",
       "<table border=\"1\" class=\"dataframe\">\n",
       "  <thead>\n",
       "    <tr style=\"text-align: right;\">\n",
       "      <th></th>\n",
       "      <th>Nacionalidad</th>\n",
       "      <th>Sexo</th>\n",
       "      <th>Periodo</th>\n",
       "      <th>Total</th>\n",
       "    </tr>\n",
       "  </thead>\n",
       "  <tbody>\n",
       "    <tr>\n",
       "      <th>0</th>\n",
       "      <td>Total</td>\n",
       "      <td>Ambos sexos</td>\n",
       "      <td>2020</td>\n",
       "      <td>25165.51</td>\n",
       "    </tr>\n",
       "    <tr>\n",
       "      <th>1</th>\n",
       "      <td>Total</td>\n",
       "      <td>Ambos sexos</td>\n",
       "      <td>2019</td>\n",
       "      <td>24395.98</td>\n",
       "    </tr>\n",
       "    <tr>\n",
       "      <th>2</th>\n",
       "      <td>Total</td>\n",
       "      <td>Ambos sexos</td>\n",
       "      <td>2018</td>\n",
       "      <td>24009.12</td>\n",
       "    </tr>\n",
       "    <tr>\n",
       "      <th>3</th>\n",
       "      <td>Total</td>\n",
       "      <td>Ambos sexos</td>\n",
       "      <td>2017</td>\n",
       "      <td>23646.50</td>\n",
       "    </tr>\n",
       "    <tr>\n",
       "      <th>4</th>\n",
       "      <td>Total</td>\n",
       "      <td>Ambos sexos</td>\n",
       "      <td>2016</td>\n",
       "      <td>23156.34</td>\n",
       "    </tr>\n",
       "  </tbody>\n",
       "</table>\n",
       "</div>"
      ],
      "text/plain": [
       "  Nacionalidad         Sexo  Periodo     Total\n",
       "0        Total  Ambos sexos     2020  25165.51\n",
       "1        Total  Ambos sexos     2019  24395.98\n",
       "2        Total  Ambos sexos     2018  24009.12\n",
       "3        Total  Ambos sexos     2017  23646.50\n",
       "4        Total  Ambos sexos     2016  23156.34"
      ]
     },
     "execution_count": 22,
     "metadata": {},
     "output_type": "execute_result"
    }
   ],
   "source": [
    "df_ganancias_sexoNacionalidad.head()"
   ]
  },
  {
   "cell_type": "code",
   "execution_count": 59,
   "metadata": {},
   "outputs": [],
   "source": [
    "df_nac = df_ganancias_sexoNacionalidad.groupby(['Nacionalidad','Periodo'], as_index=False).mean()\n"
   ]
  },
  {
   "cell_type": "code",
   "execution_count": 26,
   "metadata": {},
   "outputs": [
    {
     "data": {
      "text/plain": [
       "array(['De Africa', 'De América', 'Española', 'Otros países',\n",
       "       'País de Europa menos UE28', 'País de la UE28 sin España', 'Total'],\n",
       "      dtype=object)"
      ]
     },
     "execution_count": 26,
     "metadata": {},
     "output_type": "execute_result"
    }
   ],
   "source": [
    "#quiero hacer un trace para cada nacionalidad, pruebo si con africa sale\n",
    "\n",
    "df_gender = df_ganancias_sexoNacionalidad[df_ganancias_sexoNacionalidad['Sexo'] == 'Ambos sexos']\n",
    "both_genders_nac_grouped = df_gender.groupby(['Nacionalidad','Periodo'], as_index=False).mean()\n",
    "both_genders_nac_grouped['Nacionalidad'].unique()"
   ]
  },
  {
   "cell_type": "code",
   "execution_count": 73,
   "metadata": {},
   "outputs": [
    {
     "data": {
      "application/vnd.plotly.v1+json": {
       "config": {
        "linkText": "Export to plot.ly",
        "plotlyServerURL": "https://plot.ly",
        "showLink": false
       },
       "data": [
        {
         "mode": "lines",
         "name": "De Africa",
         "type": "scatter",
         "x": [
          2008,
          2009,
          2010,
          2011,
          2012,
          2013,
          2014,
          2015,
          2016,
          2017,
          2018,
          2019,
          2020
         ],
         "y": [
          14744.91,
          15564.9,
          15387.37,
          15721.63,
          14938.38,
          14463.26,
          14870.39,
          14756.32,
          14083.08,
          14637.18,
          16315.07,
          16423.35,
          16784.02
         ]
        },
        {
         "mode": "lines",
         "name": "Española",
         "type": "scatter",
         "x": [
          2008,
          2009,
          2010,
          2011,
          2012,
          2013,
          2014,
          2015,
          2016,
          2017,
          2018,
          2019,
          2020
         ],
         "y": [
          22485.64,
          23018.58,
          23335.39,
          23429.41,
          23232.42,
          23181.18,
          23237.94,
          23543.48,
          23605.82,
          24116.92,
          24440.21,
          24936.03,
          25690.74
         ]
        },
        {
         "mode": "lines",
         "name": "De América",
         "type": "scatter",
         "x": [
          2008,
          2009,
          2010,
          2011,
          2012,
          2013,
          2014,
          2015,
          2016,
          2017,
          2018,
          2019,
          2020
         ],
         "y": [
          13962.05,
          14157.81,
          14884.49,
          14894.07,
          14605.57,
          14234.62,
          15033.24,
          14649.9,
          14796.17,
          15283.56,
          16573.81,
          15794.1,
          16100.85
         ]
        },
        {
         "mode": "lines",
         "name": "Otros países",
         "type": "scatter",
         "x": [
          2008,
          2009,
          2010,
          2011,
          2012,
          2013,
          2014,
          2015,
          2016,
          2017,
          2018,
          2019,
          2020
         ],
         "y": [
          11896.77,
          11868.31,
          13964.71,
          12268.55,
          12439.67,
          11960.85,
          13454.65,
          12519.6,
          13409.01,
          13873.92,
          16443.13,
          16060.84,
          16433.04
         ]
        },
        {
         "mode": "lines",
         "name": "Europa sin UE28",
         "type": "scatter",
         "x": [
          2008,
          2009,
          2010,
          2011,
          2012,
          2013,
          2014,
          2015,
          2016,
          2017,
          2018,
          2019,
          2020
         ],
         "y": [
          14330.03,
          14137.08,
          16400.42,
          16518.28,
          14482.5,
          14994.68,
          15147.39,
          15367.6,
          15948.73,
          16325.34,
          16788.31,
          17258.29,
          19852.61
         ]
        },
        {
         "mode": "lines",
         "name": "Europa UE28 sin España",
         "type": "scatter",
         "x": [
          2008,
          2009,
          2010,
          2011,
          2012,
          2013,
          2014,
          2015,
          2016,
          2017,
          2018,
          2019,
          2020
         ],
         "y": [
          16823.08,
          17235.14,
          18637.2,
          17892.58,
          17442.58,
          17987.83,
          20327.35,
          19145.87,
          18870.52,
          19975.81,
          20999.87,
          20795.83,
          21832.44
         ]
        },
        {
         "mode": "lines",
         "name": "Total",
         "type": "scatter",
         "x": [
          2008,
          2009,
          2010,
          2011,
          2012,
          2013,
          2014,
          2015,
          2016,
          2017,
          2018,
          2019,
          2020
         ],
         "y": [
          21883.42,
          22511.47,
          22790.2,
          22899.35,
          22726.44,
          22697.86,
          22858.17,
          23106.3,
          23156.34,
          23646.5,
          24009.12,
          24395.98,
          25165.51
         ]
        }
       ],
       "layout": {
        "template": {
         "data": {
          "bar": [
           {
            "error_x": {
             "color": "#2a3f5f"
            },
            "error_y": {
             "color": "#2a3f5f"
            },
            "marker": {
             "line": {
              "color": "#E5ECF6",
              "width": 0.5
             },
             "pattern": {
              "fillmode": "overlay",
              "size": 10,
              "solidity": 0.2
             }
            },
            "type": "bar"
           }
          ],
          "barpolar": [
           {
            "marker": {
             "line": {
              "color": "#E5ECF6",
              "width": 0.5
             },
             "pattern": {
              "fillmode": "overlay",
              "size": 10,
              "solidity": 0.2
             }
            },
            "type": "barpolar"
           }
          ],
          "carpet": [
           {
            "aaxis": {
             "endlinecolor": "#2a3f5f",
             "gridcolor": "white",
             "linecolor": "white",
             "minorgridcolor": "white",
             "startlinecolor": "#2a3f5f"
            },
            "baxis": {
             "endlinecolor": "#2a3f5f",
             "gridcolor": "white",
             "linecolor": "white",
             "minorgridcolor": "white",
             "startlinecolor": "#2a3f5f"
            },
            "type": "carpet"
           }
          ],
          "choropleth": [
           {
            "colorbar": {
             "outlinewidth": 0,
             "ticks": ""
            },
            "type": "choropleth"
           }
          ],
          "contour": [
           {
            "colorbar": {
             "outlinewidth": 0,
             "ticks": ""
            },
            "colorscale": [
             [
              0,
              "#0d0887"
             ],
             [
              0.1111111111111111,
              "#46039f"
             ],
             [
              0.2222222222222222,
              "#7201a8"
             ],
             [
              0.3333333333333333,
              "#9c179e"
             ],
             [
              0.4444444444444444,
              "#bd3786"
             ],
             [
              0.5555555555555556,
              "#d8576b"
             ],
             [
              0.6666666666666666,
              "#ed7953"
             ],
             [
              0.7777777777777778,
              "#fb9f3a"
             ],
             [
              0.8888888888888888,
              "#fdca26"
             ],
             [
              1,
              "#f0f921"
             ]
            ],
            "type": "contour"
           }
          ],
          "contourcarpet": [
           {
            "colorbar": {
             "outlinewidth": 0,
             "ticks": ""
            },
            "type": "contourcarpet"
           }
          ],
          "heatmap": [
           {
            "colorbar": {
             "outlinewidth": 0,
             "ticks": ""
            },
            "colorscale": [
             [
              0,
              "#0d0887"
             ],
             [
              0.1111111111111111,
              "#46039f"
             ],
             [
              0.2222222222222222,
              "#7201a8"
             ],
             [
              0.3333333333333333,
              "#9c179e"
             ],
             [
              0.4444444444444444,
              "#bd3786"
             ],
             [
              0.5555555555555556,
              "#d8576b"
             ],
             [
              0.6666666666666666,
              "#ed7953"
             ],
             [
              0.7777777777777778,
              "#fb9f3a"
             ],
             [
              0.8888888888888888,
              "#fdca26"
             ],
             [
              1,
              "#f0f921"
             ]
            ],
            "type": "heatmap"
           }
          ],
          "heatmapgl": [
           {
            "colorbar": {
             "outlinewidth": 0,
             "ticks": ""
            },
            "colorscale": [
             [
              0,
              "#0d0887"
             ],
             [
              0.1111111111111111,
              "#46039f"
             ],
             [
              0.2222222222222222,
              "#7201a8"
             ],
             [
              0.3333333333333333,
              "#9c179e"
             ],
             [
              0.4444444444444444,
              "#bd3786"
             ],
             [
              0.5555555555555556,
              "#d8576b"
             ],
             [
              0.6666666666666666,
              "#ed7953"
             ],
             [
              0.7777777777777778,
              "#fb9f3a"
             ],
             [
              0.8888888888888888,
              "#fdca26"
             ],
             [
              1,
              "#f0f921"
             ]
            ],
            "type": "heatmapgl"
           }
          ],
          "histogram": [
           {
            "marker": {
             "pattern": {
              "fillmode": "overlay",
              "size": 10,
              "solidity": 0.2
             }
            },
            "type": "histogram"
           }
          ],
          "histogram2d": [
           {
            "colorbar": {
             "outlinewidth": 0,
             "ticks": ""
            },
            "colorscale": [
             [
              0,
              "#0d0887"
             ],
             [
              0.1111111111111111,
              "#46039f"
             ],
             [
              0.2222222222222222,
              "#7201a8"
             ],
             [
              0.3333333333333333,
              "#9c179e"
             ],
             [
              0.4444444444444444,
              "#bd3786"
             ],
             [
              0.5555555555555556,
              "#d8576b"
             ],
             [
              0.6666666666666666,
              "#ed7953"
             ],
             [
              0.7777777777777778,
              "#fb9f3a"
             ],
             [
              0.8888888888888888,
              "#fdca26"
             ],
             [
              1,
              "#f0f921"
             ]
            ],
            "type": "histogram2d"
           }
          ],
          "histogram2dcontour": [
           {
            "colorbar": {
             "outlinewidth": 0,
             "ticks": ""
            },
            "colorscale": [
             [
              0,
              "#0d0887"
             ],
             [
              0.1111111111111111,
              "#46039f"
             ],
             [
              0.2222222222222222,
              "#7201a8"
             ],
             [
              0.3333333333333333,
              "#9c179e"
             ],
             [
              0.4444444444444444,
              "#bd3786"
             ],
             [
              0.5555555555555556,
              "#d8576b"
             ],
             [
              0.6666666666666666,
              "#ed7953"
             ],
             [
              0.7777777777777778,
              "#fb9f3a"
             ],
             [
              0.8888888888888888,
              "#fdca26"
             ],
             [
              1,
              "#f0f921"
             ]
            ],
            "type": "histogram2dcontour"
           }
          ],
          "mesh3d": [
           {
            "colorbar": {
             "outlinewidth": 0,
             "ticks": ""
            },
            "type": "mesh3d"
           }
          ],
          "parcoords": [
           {
            "line": {
             "colorbar": {
              "outlinewidth": 0,
              "ticks": ""
             }
            },
            "type": "parcoords"
           }
          ],
          "pie": [
           {
            "automargin": true,
            "type": "pie"
           }
          ],
          "scatter": [
           {
            "fillpattern": {
             "fillmode": "overlay",
             "size": 10,
             "solidity": 0.2
            },
            "type": "scatter"
           }
          ],
          "scatter3d": [
           {
            "line": {
             "colorbar": {
              "outlinewidth": 0,
              "ticks": ""
             }
            },
            "marker": {
             "colorbar": {
              "outlinewidth": 0,
              "ticks": ""
             }
            },
            "type": "scatter3d"
           }
          ],
          "scattercarpet": [
           {
            "marker": {
             "colorbar": {
              "outlinewidth": 0,
              "ticks": ""
             }
            },
            "type": "scattercarpet"
           }
          ],
          "scattergeo": [
           {
            "marker": {
             "colorbar": {
              "outlinewidth": 0,
              "ticks": ""
             }
            },
            "type": "scattergeo"
           }
          ],
          "scattergl": [
           {
            "marker": {
             "colorbar": {
              "outlinewidth": 0,
              "ticks": ""
             }
            },
            "type": "scattergl"
           }
          ],
          "scattermapbox": [
           {
            "marker": {
             "colorbar": {
              "outlinewidth": 0,
              "ticks": ""
             }
            },
            "type": "scattermapbox"
           }
          ],
          "scatterpolar": [
           {
            "marker": {
             "colorbar": {
              "outlinewidth": 0,
              "ticks": ""
             }
            },
            "type": "scatterpolar"
           }
          ],
          "scatterpolargl": [
           {
            "marker": {
             "colorbar": {
              "outlinewidth": 0,
              "ticks": ""
             }
            },
            "type": "scatterpolargl"
           }
          ],
          "scatterternary": [
           {
            "marker": {
             "colorbar": {
              "outlinewidth": 0,
              "ticks": ""
             }
            },
            "type": "scatterternary"
           }
          ],
          "surface": [
           {
            "colorbar": {
             "outlinewidth": 0,
             "ticks": ""
            },
            "colorscale": [
             [
              0,
              "#0d0887"
             ],
             [
              0.1111111111111111,
              "#46039f"
             ],
             [
              0.2222222222222222,
              "#7201a8"
             ],
             [
              0.3333333333333333,
              "#9c179e"
             ],
             [
              0.4444444444444444,
              "#bd3786"
             ],
             [
              0.5555555555555556,
              "#d8576b"
             ],
             [
              0.6666666666666666,
              "#ed7953"
             ],
             [
              0.7777777777777778,
              "#fb9f3a"
             ],
             [
              0.8888888888888888,
              "#fdca26"
             ],
             [
              1,
              "#f0f921"
             ]
            ],
            "type": "surface"
           }
          ],
          "table": [
           {
            "cells": {
             "fill": {
              "color": "#EBF0F8"
             },
             "line": {
              "color": "white"
             }
            },
            "header": {
             "fill": {
              "color": "#C8D4E3"
             },
             "line": {
              "color": "white"
             }
            },
            "type": "table"
           }
          ]
         },
         "layout": {
          "annotationdefaults": {
           "arrowcolor": "#2a3f5f",
           "arrowhead": 0,
           "arrowwidth": 1
          },
          "autotypenumbers": "strict",
          "coloraxis": {
           "colorbar": {
            "outlinewidth": 0,
            "ticks": ""
           }
          },
          "colorscale": {
           "diverging": [
            [
             0,
             "#8e0152"
            ],
            [
             0.1,
             "#c51b7d"
            ],
            [
             0.2,
             "#de77ae"
            ],
            [
             0.3,
             "#f1b6da"
            ],
            [
             0.4,
             "#fde0ef"
            ],
            [
             0.5,
             "#f7f7f7"
            ],
            [
             0.6,
             "#e6f5d0"
            ],
            [
             0.7,
             "#b8e186"
            ],
            [
             0.8,
             "#7fbc41"
            ],
            [
             0.9,
             "#4d9221"
            ],
            [
             1,
             "#276419"
            ]
           ],
           "sequential": [
            [
             0,
             "#0d0887"
            ],
            [
             0.1111111111111111,
             "#46039f"
            ],
            [
             0.2222222222222222,
             "#7201a8"
            ],
            [
             0.3333333333333333,
             "#9c179e"
            ],
            [
             0.4444444444444444,
             "#bd3786"
            ],
            [
             0.5555555555555556,
             "#d8576b"
            ],
            [
             0.6666666666666666,
             "#ed7953"
            ],
            [
             0.7777777777777778,
             "#fb9f3a"
            ],
            [
             0.8888888888888888,
             "#fdca26"
            ],
            [
             1,
             "#f0f921"
            ]
           ],
           "sequentialminus": [
            [
             0,
             "#0d0887"
            ],
            [
             0.1111111111111111,
             "#46039f"
            ],
            [
             0.2222222222222222,
             "#7201a8"
            ],
            [
             0.3333333333333333,
             "#9c179e"
            ],
            [
             0.4444444444444444,
             "#bd3786"
            ],
            [
             0.5555555555555556,
             "#d8576b"
            ],
            [
             0.6666666666666666,
             "#ed7953"
            ],
            [
             0.7777777777777778,
             "#fb9f3a"
            ],
            [
             0.8888888888888888,
             "#fdca26"
            ],
            [
             1,
             "#f0f921"
            ]
           ]
          },
          "colorway": [
           "#636efa",
           "#EF553B",
           "#00cc96",
           "#ab63fa",
           "#FFA15A",
           "#19d3f3",
           "#FF6692",
           "#B6E880",
           "#FF97FF",
           "#FECB52"
          ],
          "font": {
           "color": "#2a3f5f"
          },
          "geo": {
           "bgcolor": "white",
           "lakecolor": "white",
           "landcolor": "#E5ECF6",
           "showlakes": true,
           "showland": true,
           "subunitcolor": "white"
          },
          "hoverlabel": {
           "align": "left"
          },
          "hovermode": "closest",
          "mapbox": {
           "style": "light"
          },
          "paper_bgcolor": "white",
          "plot_bgcolor": "#E5ECF6",
          "polar": {
           "angularaxis": {
            "gridcolor": "white",
            "linecolor": "white",
            "ticks": ""
           },
           "bgcolor": "#E5ECF6",
           "radialaxis": {
            "gridcolor": "white",
            "linecolor": "white",
            "ticks": ""
           }
          },
          "scene": {
           "xaxis": {
            "backgroundcolor": "#E5ECF6",
            "gridcolor": "white",
            "gridwidth": 2,
            "linecolor": "white",
            "showbackground": true,
            "ticks": "",
            "zerolinecolor": "white"
           },
           "yaxis": {
            "backgroundcolor": "#E5ECF6",
            "gridcolor": "white",
            "gridwidth": 2,
            "linecolor": "white",
            "showbackground": true,
            "ticks": "",
            "zerolinecolor": "white"
           },
           "zaxis": {
            "backgroundcolor": "#E5ECF6",
            "gridcolor": "white",
            "gridwidth": 2,
            "linecolor": "white",
            "showbackground": true,
            "ticks": "",
            "zerolinecolor": "white"
           }
          },
          "shapedefaults": {
           "line": {
            "color": "#2a3f5f"
           }
          },
          "ternary": {
           "aaxis": {
            "gridcolor": "white",
            "linecolor": "white",
            "ticks": ""
           },
           "baxis": {
            "gridcolor": "white",
            "linecolor": "white",
            "ticks": ""
           },
           "bgcolor": "#E5ECF6",
           "caxis": {
            "gridcolor": "white",
            "linecolor": "white",
            "ticks": ""
           }
          },
          "title": {
           "x": 0.05
          },
          "xaxis": {
           "automargin": true,
           "gridcolor": "white",
           "linecolor": "white",
           "ticks": "",
           "title": {
            "standoff": 15
           },
           "zerolinecolor": "white",
           "zerolinewidth": 2
          },
          "yaxis": {
           "automargin": true,
           "gridcolor": "white",
           "linecolor": "white",
           "ticks": "",
           "title": {
            "standoff": 15
           },
           "zerolinecolor": "white",
           "zerolinewidth": 2
          }
         }
        },
        "title": {
         "text": "Ingresos por año y nacionalidad"
        },
        "xaxis": {
         "title": {
          "text": "Año"
         }
        }
       }
      }
     },
     "metadata": {},
     "output_type": "display_data"
    }
   ],
   "source": [
    "#vamos a ver si funciona lo de arriba\n",
    "trace1 = go.Scatter(x = both_genders_nac_grouped[both_genders_nac_grouped['Nacionalidad'] == 'De Africa']['Periodo'], y= both_genders_nac_grouped[both_genders_nac_grouped['Nacionalidad'] == 'De Africa']['Total'], mode=\"lines\", name=\"De Africa\")\n",
    "trace2 = go.Scatter(x = both_genders_nac_grouped[both_genders_nac_grouped['Nacionalidad'] == 'Española']['Periodo'], y= both_genders_nac_grouped[both_genders_nac_grouped['Nacionalidad'] == 'Española']['Total'], mode=\"lines\", name=\"Española\")\n",
    "trace3 = go.Scatter(x = both_genders_nac_grouped[both_genders_nac_grouped['Nacionalidad'] == 'De América']['Periodo'], y= both_genders_nac_grouped[both_genders_nac_grouped['Nacionalidad'] == 'De América']['Total'], mode=\"lines\", name=\"De América\")\n",
    "trace4 = go.Scatter(x = both_genders_nac_grouped[both_genders_nac_grouped['Nacionalidad'] == 'Otros países']['Periodo'], y= both_genders_nac_grouped[both_genders_nac_grouped['Nacionalidad'] == 'Otros países']['Total'], mode=\"lines\", name=\"Otros países\")\n",
    "trace5 = go.Scatter(x = both_genders_nac_grouped[both_genders_nac_grouped['Nacionalidad'] == 'País de Europa menos UE28']['Periodo'], y= both_genders_nac_grouped[both_genders_nac_grouped['Nacionalidad'] == 'País de Europa menos UE28']['Total'], mode=\"lines\", name=\"Europa sin UE28\")\n",
    "trace6 = go.Scatter(x = both_genders_nac_grouped[both_genders_nac_grouped['Nacionalidad'] == 'País de la UE28 sin España']['Periodo'], y= both_genders_nac_grouped[both_genders_nac_grouped['Nacionalidad'] == 'País de la UE28 sin España']['Total'], mode=\"lines\", name=\"Europa UE28 sin España\")\n",
    "trace7 = go.Scatter(x = both_genders_nac_grouped[both_genders_nac_grouped['Nacionalidad'] == 'Total']['Periodo'], y= both_genders_nac_grouped[both_genders_nac_grouped['Nacionalidad'] == 'Total']['Total'], mode=\"lines\", name=\"Total\")\n",
    "\n",
    "\n",
    "\n",
    "data = [trace1,trace2, trace3, trace4, trace5, trace6, trace7]\n",
    "\n",
    "\n",
    "layout = dict(title = \"Ingresos por año y nacionalidad\", xaxis = dict(title=\"Año\"))\n",
    "\n",
    "fig = dict(data=data, layout=layout)\n",
    "\n",
    "iplot(fig)"
   ]
  },
  {
   "cell_type": "code",
   "execution_count": 71,
   "metadata": {},
   "outputs": [
    {
     "data": {
      "text/plain": [
       "Text(0.5, 1.0, 'Regresión lineal salarios')"
      ]
     },
     "execution_count": 71,
     "metadata": {},
     "output_type": "execute_result"
    },
    {
     "data": {
      "image/png": "[encoded data removed]",
      "text/plain": [
       "<Figure size 1144.12x500 with 1 Axes>"
      ]
     },
     "metadata": {},
     "output_type": "display_data"
    }
   ],
   "source": [
    "#tabla regresion lineal sin españa y total para tener un mejorado foco en inmigracion\n",
    "#puedo quitar los puntos? suuuuu\n",
    "sns.lmplot(data=both_genders_nac_grouped[(both_genders_nac_grouped['Nacionalidad'] != 'Española') & (both_genders_nac_grouped['Nacionalidad'] != 'Total')], x=\"Periodo\", y=\"Total\", hue = 'Nacionalidad', scatter=False\n",
    ",aspect=1.8)\n",
    "plt.title('Regresión lineal salarios', fontsize=15) \n"
   ]
  },
  {
   "cell_type": "code",
   "execution_count": 103,
   "metadata": {},
   "outputs": [
    {
     "data": {
      "application/vnd.plotly.v1+json": {
       "config": {
        "plotlyServerURL": "https://plot.ly"
       },
       "data": [
        {
         "hovertemplate": "Nacionalidad=De Africa<br>Periodo=%{x}<br>Total=%{y}<extra></extra>",
         "legendgroup": "De Africa",
         "marker": {
          "color": "#636efa",
          "symbol": "circle"
         },
         "mode": "markers",
         "name": "De Africa",
         "orientation": "v",
         "showlegend": true,
         "type": "scatter",
         "x": [
          2008,
          2009,
          2010,
          2011,
          2012,
          2013,
          2014,
          2015,
          2016,
          2017,
          2018,
          2019,
          2020
         ],
         "xaxis": "x",
         "y": [
          14744.91,
          15564.9,
          15387.37,
          15721.63,
          14938.38,
          14463.26,
          14870.39,
          14756.32,
          14083.08,
          14637.18,
          16315.07,
          16423.35,
          16784.02
         ],
         "yaxis": "y"
        },
        {
         "hovertemplate": "<b>OLS trendline</b><br>Total = 85.532 * Periodo + -156978<br>R<sup>2</sup>=0.160684<br><br>Nacionalidad=De Africa<br>Periodo=%{x}<br>Total=%{y} <b>(trend)</b><extra></extra>",
         "legendgroup": "De Africa",
         "marker": {
          "color": "#636efa",
          "symbol": "circle"
         },
         "mode": "lines",
         "name": "De Africa",
         "showlegend": false,
         "type": "scatter",
         "x": [
          2008,
          2009,
          2010,
          2011,
          2012,
          2013,
          2014,
          2015,
          2016,
          2017,
          2018,
          2019,
          2020
         ],
         "xaxis": "x",
         "y": [
          14770.643516483222,
          14856.175494505209,
          14941.707472527196,
          15027.239450549154,
          15112.77142857114,
          15198.303406593128,
          15283.835384615115,
          15369.367362637102,
          15454.899340659089,
          15540.431318681076,
          15625.963296703063,
          15711.49527472505,
          15797.027252747037
         ],
         "yaxis": "y"
        },
        {
         "hovertemplate": "Nacionalidad=De América<br>Periodo=%{x}<br>Total=%{y}<extra></extra>",
         "legendgroup": "De América",
         "marker": {
          "color": "#EF553B",
          "symbol": "circle"
         },
         "mode": "markers",
         "name": "De América",
         "orientation": "v",
         "showlegend": true,
         "type": "scatter",
         "x": [
          2008,
          2009,
          2010,
          2011,
          2012,
          2013,
          2014,
          2015,
          2016,
          2017,
          2018,
          2019,
          2020
         ],
         "xaxis": "x",
         "y": [
          13962.05,
          14157.81,
          14884.49,
          14894.07,
          14605.57,
          14234.62,
          15033.24,
          14649.9,
          14796.17,
          15283.56,
          16573.81,
          15794.1,
          16100.85
         ],
         "yaxis": "y"
        },
        {
         "hovertemplate": "<b>OLS trendline</b><br>Total = 163.387 * Periodo + -314064<br>R<sup>2</sup>=0.682625<br><br>Nacionalidad=De América<br>Periodo=%{x}<br>Total=%{y} <b>(trend)</b><extra></extra>",
         "legendgroup": "De América",
         "marker": {
          "color": "#EF553B",
          "symbol": "circle"
         },
         "mode": "lines",
         "name": "De América",
         "showlegend": false,
         "type": "scatter",
         "x": [
          2008,
          2009,
          2010,
          2011,
          2012,
          2013,
          2014,
          2015,
          2016,
          2017,
          2018,
          2019,
          2020
         ],
         "xaxis": "x",
         "y": [
          14017.387252747198,
          14180.774505494512,
          14344.161758241768,
          14507.549010989023,
          14670.93626373628,
          14834.323516483535,
          14997.71076923079,
          15161.098021978105,
          15324.48527472536,
          15487.872527472617,
          15651.259780219872,
          15814.647032967128,
          15978.034285714442
         ],
         "yaxis": "y"
        },
        {
         "hovertemplate": "Nacionalidad=Española<br>Periodo=%{x}<br>Total=%{y}<extra></extra>",
         "legendgroup": "Española",
         "marker": {
          "color": "#00cc96",
          "symbol": "circle"
         },
         "mode": "markers",
         "name": "Española",
         "orientation": "v",
         "showlegend": true,
         "type": "scatter",
         "x": [
          2008,
          2009,
          2010,
          2011,
          2012,
          2013,
          2014,
          2015,
          2016,
          2017,
          2018,
          2019,
          2020
         ],
         "xaxis": "x",
         "y": [
          22485.64,
          23018.58,
          23335.39,
          23429.41,
          23232.42,
          23181.18,
          23237.94,
          23543.48,
          23605.82,
          24116.92,
          24440.21,
          24936.03,
          25690.74
         ],
         "yaxis": "y"
        },
        {
         "hovertemplate": "<b>OLS trendline</b><br>Total = 200.048 * Periodo + -379185<br>R<sup>2</sup>=0.801216<br><br>Nacionalidad=Española<br>Periodo=%{x}<br>Total=%{y} <b>(trend)</b><extra></extra>",
         "legendgroup": "Española",
         "marker": {
          "color": "#00cc96",
          "symbol": "circle"
         },
         "mode": "lines",
         "name": "Española",
         "showlegend": false,
         "type": "scatter",
         "x": [
          2008,
          2009,
          2010,
          2011,
          2012,
          2013,
          2014,
          2015,
          2016,
          2017,
          2018,
          2019,
          2020
         ],
         "xaxis": "x",
         "y": [
          22511.53890109842,
          22711.587032966607,
          22911.635164834734,
          23111.68329670292,
          23311.731428571045,
          23511.779560439172,
          23711.827692307357,
          23911.875824175484,
          24111.92395604367,
          24311.972087911796,
          24512.020219779923,
          24712.068351648108,
          24912.116483516234
         ],
         "yaxis": "y"
        },
        {
         "hovertemplate": "Nacionalidad=Otros países<br>Periodo=%{x}<br>Total=%{y}<extra></extra>",
         "legendgroup": "Otros países",
         "marker": {
          "color": "#ab63fa",
          "symbol": "circle"
         },
         "mode": "markers",
         "name": "Otros países",
         "orientation": "v",
         "showlegend": true,
         "type": "scatter",
         "x": [
          2008,
          2009,
          2010,
          2011,
          2012,
          2013,
          2014,
          2015,
          2016,
          2017,
          2018,
          2019,
          2020
         ],
         "xaxis": "x",
         "y": [
          11896.77,
          11868.31,
          13964.71,
          12268.55,
          12439.67,
          11960.85,
          13454.65,
          12519.6,
          13409.01,
          13873.92,
          16443.13,
          16060.84,
          16433.04
         ],
         "yaxis": "y"
        },
        {
         "hovertemplate": "<b>OLS trendline</b><br>Total = 359.382 * Periodo + -710211<br>R<sup>2</sup>=0.665890<br><br>Nacionalidad=Otros países<br>Periodo=%{x}<br>Total=%{y} <b>(trend)</b><extra></extra>",
         "legendgroup": "Otros países",
         "marker": {
          "color": "#ab63fa",
          "symbol": "circle"
         },
         "mode": "lines",
         "name": "Otros países",
         "showlegend": false,
         "type": "scatter",
         "x": [
          2008,
          2009,
          2010,
          2011,
          2012,
          2013,
          2014,
          2015,
          2016,
          2017,
          2018,
          2019,
          2020
         ],
         "xaxis": "x",
         "y": [
          11427.78989011026,
          11787.17170329718,
          12146.553516483982,
          12505.935329670901,
          12865.317142857704,
          13224.698956044624,
          13584.080769231427,
          13943.46258241823,
          14302.844395605149,
          14662.226208791952,
          15021.608021978871,
          15380.989835165674,
          15740.371648352593
         ],
         "yaxis": "y"
        },
        {
         "hovertemplate": "Nacionalidad=País de Europa menos UE28<br>Periodo=%{x}<br>Total=%{y}<extra></extra>",
         "legendgroup": "País de Europa menos UE28",
         "marker": {
          "color": "#FFA15A",
          "symbol": "circle"
         },
         "mode": "markers",
         "name": "País de Europa menos UE28",
         "orientation": "v",
         "showlegend": true,
         "type": "scatter",
         "x": [
          2008,
          2009,
          2010,
          2011,
          2012,
          2013,
          2014,
          2015,
          2016,
          2017,
          2018,
          2019,
          2020
         ],
         "xaxis": "x",
         "y": [
          14330.03,
          14137.08,
          16400.42,
          16518.28,
          14482.5,
          14994.68,
          15147.39,
          15367.6,
          15948.73,
          16325.34,
          16788.31,
          17258.29,
          19852.61
         ],
         "yaxis": "y"
        },
        {
         "hovertemplate": "<b>OLS trendline</b><br>Total = 291.317 * Periodo + -570746<br>R<sup>2</sup>=0.546379<br><br>Nacionalidad=País de Europa menos UE28<br>Periodo=%{x}<br>Total=%{y} <b>(trend)</b><extra></extra>",
         "legendgroup": "País de Europa menos UE28",
         "marker": {
          "color": "#FFA15A",
          "symbol": "circle"
         },
         "mode": "lines",
         "name": "País de Europa menos UE28",
         "showlegend": false,
         "type": "scatter",
         "x": [
          2008,
          2009,
          2010,
          2011,
          2012,
          2013,
          2014,
          2015,
          2016,
          2017,
          2018,
          2019,
          2020
         ],
         "xaxis": "x",
         "y": [
          14217.580989009934,
          14508.89774725167,
          14800.214505493524,
          15091.531263735262,
          15382.848021977115,
          15674.164780218853,
          15965.481538460706,
          16256.798296702444,
          16548.11505494418,
          16839.431813186035,
          17130.748571427772,
          17422.065329669625,
          17713.382087911363
         ],
         "yaxis": "y"
        },
        {
         "hovertemplate": "Nacionalidad=País de la UE28 sin España<br>Periodo=%{x}<br>Total=%{y}<extra></extra>",
         "legendgroup": "País de la UE28 sin España",
         "marker": {
          "color": "#19d3f3",
          "symbol": "circle"
         },
         "mode": "markers",
         "name": "País de la UE28 sin España",
         "orientation": "v",
         "showlegend": true,
         "type": "scatter",
         "x": [
          2008,
          2009,
          2010,
          2011,
          2012,
          2013,
          2014,
          2015,
          2016,
          2017,
          2018,
          2019,
          2020
         ],
         "xaxis": "x",
         "y": [
          16823.08,
          17235.14,
          18637.2,
          17892.58,
          17442.58,
          17987.83,
          20327.35,
          19145.87,
          18870.52,
          19975.81,
          20999.87,
          20795.83,
          21832.44
         ],
         "yaxis": "y"
        },
        {
         "hovertemplate": "<b>OLS trendline</b><br>Total = 371.285 * Periodo + -728694<br>R<sup>2</sup>=0.820196<br><br>Nacionalidad=País de la UE28 sin España<br>Periodo=%{x}<br>Total=%{y} <b>(trend)</b><extra></extra>",
         "legendgroup": "País de la UE28 sin España",
         "marker": {
          "color": "#19d3f3",
          "symbol": "circle"
         },
         "mode": "lines",
         "name": "País de la UE28 sin España",
         "showlegend": false,
         "type": "scatter",
         "x": [
          2008,
          2009,
          2010,
          2011,
          2012,
          2013,
          2014,
          2015,
          2016,
          2017,
          2018,
          2019,
          2020
         ],
         "xaxis": "x",
         "y": [
          16846.60439560318,
          17217.88956043846,
          17589.174725273624,
          17960.45989010879,
          18331.74505494407,
          18703.030219779233,
          19074.315384614398,
          19445.600549449562,
          19816.885714284843,
          20188.170879120007,
          20559.45604395517,
          20930.741208790452,
          21302.026373625617
         ],
         "yaxis": "y"
        },
        {
         "hovertemplate": "Nacionalidad=Total<br>Periodo=%{x}<br>Total=%{y}<extra></extra>",
         "legendgroup": "Total",
         "marker": {
          "color": "#FF6692",
          "symbol": "circle"
         },
         "mode": "markers",
         "name": "Total",
         "orientation": "v",
         "showlegend": true,
         "type": "scatter",
         "x": [
          2008,
          2009,
          2010,
          2011,
          2012,
          2013,
          2014,
          2015,
          2016,
          2017,
          2018,
          2019,
          2020
         ],
         "xaxis": "x",
         "y": [
          21883.42,
          22511.47,
          22790.2,
          22899.35,
          22726.44,
          22697.86,
          22858.17,
          23106.3,
          23156.34,
          23646.5,
          24009.12,
          24395.98,
          25165.51
         ],
         "yaxis": "y"
        },
        {
         "hovertemplate": "<b>OLS trendline</b><br>Total = 206.046 * Periodo + -391759<br>R<sup>2</sup>=0.838718<br><br>Nacionalidad=Total<br>Periodo=%{x}<br>Total=%{y} <b>(trend)</b><extra></extra>",
         "legendgroup": "Total",
         "marker": {
          "color": "#FF6692",
          "symbol": "circle"
         },
         "mode": "lines",
         "name": "Total",
         "showlegend": false,
         "type": "scatter",
         "x": [
          2008,
          2009,
          2010,
          2011,
          2012,
          2013,
          2014,
          2015,
          2016,
          2017,
          2018,
          2019,
          2020
         ],
         "xaxis": "x",
         "y": [
          21982.694945055584,
          22188.741428572102,
          22394.78791208862,
          22600.83439560508,
          22806.8808791216,
          23012.92736263812,
          23218.97384615458,
          23425.020329671097,
          23631.066813187615,
          23837.113296704076,
          24043.159780220594,
          24249.206263737113,
          24455.25274725363
         ],
         "yaxis": "y"
        }
       ],
       "layout": {
        "legend": {
         "title": {
          "text": "Nacionalidad"
         },
         "tracegroupgap": 0
        },
        "margin": {
         "t": 60
        },
        "template": {
         "data": {
          "bar": [
           {
            "error_x": {
             "color": "#2a3f5f"
            },
            "error_y": {
             "color": "#2a3f5f"
            },
            "marker": {
             "line": {
              "color": "#E5ECF6",
              "width": 0.5
             },
             "pattern": {
              "fillmode": "overlay",
              "size": 10,
              "solidity": 0.2
             }
            },
            "type": "bar"
           }
          ],
          "barpolar": [
           {
            "marker": {
             "line": {
              "color": "#E5ECF6",
              "width": 0.5
             },
             "pattern": {
              "fillmode": "overlay",
              "size": 10,
              "solidity": 0.2
             }
            },
            "type": "barpolar"
           }
          ],
          "carpet": [
           {
            "aaxis": {
             "endlinecolor": "#2a3f5f",
             "gridcolor": "white",
             "linecolor": "white",
             "minorgridcolor": "white",
             "startlinecolor": "#2a3f5f"
            },
            "baxis": {
             "endlinecolor": "#2a3f5f",
             "gridcolor": "white",
             "linecolor": "white",
             "minorgridcolor": "white",
             "startlinecolor": "#2a3f5f"
            },
            "type": "carpet"
           }
          ],
          "choropleth": [
           {
            "colorbar": {
             "outlinewidth": 0,
             "ticks": ""
            },
            "type": "choropleth"
           }
          ],
          "contour": [
           {
            "colorbar": {
             "outlinewidth": 0,
             "ticks": ""
            },
            "colorscale": [
             [
              0,
              "#0d0887"
             ],
             [
              0.1111111111111111,
              "#46039f"
             ],
             [
              0.2222222222222222,
              "#7201a8"
             ],
             [
              0.3333333333333333,
              "#9c179e"
             ],
             [
              0.4444444444444444,
              "#bd3786"
             ],
             [
              0.5555555555555556,
              "#d8576b"
             ],
             [
              0.6666666666666666,
              "#ed7953"
             ],
             [
              0.7777777777777778,
              "#fb9f3a"
             ],
             [
              0.8888888888888888,
              "#fdca26"
             ],
             [
              1,
              "#f0f921"
             ]
            ],
            "type": "contour"
           }
          ],
          "contourcarpet": [
           {
            "colorbar": {
             "outlinewidth": 0,
             "ticks": ""
            },
            "type": "contourcarpet"
           }
          ],
          "heatmap": [
           {
            "colorbar": {
             "outlinewidth": 0,
             "ticks": ""
            },
            "colorscale": [
             [
              0,
              "#0d0887"
             ],
             [
              0.1111111111111111,
              "#46039f"
             ],
             [
              0.2222222222222222,
              "#7201a8"
             ],
             [
              0.3333333333333333,
              "#9c179e"
             ],
             [
              0.4444444444444444,
              "#bd3786"
             ],
             [
              0.5555555555555556,
              "#d8576b"
             ],
             [
              0.6666666666666666,
              "#ed7953"
             ],
             [
              0.7777777777777778,
              "#fb9f3a"
             ],
             [
              0.8888888888888888,
              "#fdca26"
             ],
             [
              1,
              "#f0f921"
             ]
            ],
            "type": "heatmap"
           }
          ],
          "heatmapgl": [
           {
            "colorbar": {
             "outlinewidth": 0,
             "ticks": ""
            },
            "colorscale": [
             [
              0,
              "#0d0887"
             ],
             [
              0.1111111111111111,
              "#46039f"
             ],
             [
              0.2222222222222222,
              "#7201a8"
             ],
             [
              0.3333333333333333,
              "#9c179e"
             ],
             [
              0.4444444444444444,
              "#bd3786"
             ],
             [
              0.5555555555555556,
              "#d8576b"
             ],
             [
              0.6666666666666666,
              "#ed7953"
             ],
             [
              0.7777777777777778,
              "#fb9f3a"
             ],
             [
              0.8888888888888888,
              "#fdca26"
             ],
             [
              1,
              "#f0f921"
             ]
            ],
            "type": "heatmapgl"
           }
          ],
          "histogram": [
           {
            "marker": {
             "pattern": {
              "fillmode": "overlay",
              "size": 10,
              "solidity": 0.2
             }
            },
            "type": "histogram"
           }
          ],
          "histogram2d": [
           {
            "colorbar": {
             "outlinewidth": 0,
             "ticks": ""
            },
            "colorscale": [
             [
              0,
              "#0d0887"
             ],
             [
              0.1111111111111111,
              "#46039f"
             ],
             [
              0.2222222222222222,
              "#7201a8"
             ],
             [
              0.3333333333333333,
              "#9c179e"
             ],
             [
              0.4444444444444444,
              "#bd3786"
             ],
             [
              0.5555555555555556,
              "#d8576b"
             ],
             [
              0.6666666666666666,
              "#ed7953"
             ],
             [
              0.7777777777777778,
              "#fb9f3a"
             ],
             [
              0.8888888888888888,
              "#fdca26"
             ],
             [
              1,
              "#f0f921"
             ]
            ],
            "type": "histogram2d"
           }
          ],
          "histogram2dcontour": [
           {
            "colorbar": {
             "outlinewidth": 0,
             "ticks": ""
            },
            "colorscale": [
             [
              0,
              "#0d0887"
             ],
             [
              0.1111111111111111,
              "#46039f"
             ],
             [
              0.2222222222222222,
              "#7201a8"
             ],
             [
              0.3333333333333333,
              "#9c179e"
             ],
             [
              0.4444444444444444,
              "#bd3786"
             ],
             [
              0.5555555555555556,
              "#d8576b"
             ],
             [
              0.6666666666666666,
              "#ed7953"
             ],
             [
              0.7777777777777778,
              "#fb9f3a"
             ],
             [
              0.8888888888888888,
              "#fdca26"
             ],
             [
              1,
              "#f0f921"
             ]
            ],
            "type": "histogram2dcontour"
           }
          ],
          "mesh3d": [
           {
            "colorbar": {
             "outlinewidth": 0,
             "ticks": ""
            },
            "type": "mesh3d"
           }
          ],
          "parcoords": [
           {
            "line": {
             "colorbar": {
              "outlinewidth": 0,
              "ticks": ""
             }
            },
            "type": "parcoords"
           }
          ],
          "pie": [
           {
            "automargin": true,
            "type": "pie"
           }
          ],
          "scatter": [
           {
            "fillpattern": {
             "fillmode": "overlay",
             "size": 10,
             "solidity": 0.2
            },
            "type": "scatter"
           }
          ],
          "scatter3d": [
           {
            "line": {
             "colorbar": {
              "outlinewidth": 0,
              "ticks": ""
             }
            },
            "marker": {
             "colorbar": {
              "outlinewidth": 0,
              "ticks": ""
             }
            },
            "type": "scatter3d"
           }
          ],
          "scattercarpet": [
           {
            "marker": {
             "colorbar": {
              "outlinewidth": 0,
              "ticks": ""
             }
            },
            "type": "scattercarpet"
           }
          ],
          "scattergeo": [
           {
            "marker": {
             "colorbar": {
              "outlinewidth": 0,
              "ticks": ""
             }
            },
            "type": "scattergeo"
           }
          ],
          "scattergl": [
           {
            "marker": {
             "colorbar": {
              "outlinewidth": 0,
              "ticks": ""
             }
            },
            "type": "scattergl"
           }
          ],
          "scattermapbox": [
           {
            "marker": {
             "colorbar": {
              "outlinewidth": 0,
              "ticks": ""
             }
            },
            "type": "scattermapbox"
           }
          ],
          "scatterpolar": [
           {
            "marker": {
             "colorbar": {
              "outlinewidth": 0,
              "ticks": ""
             }
            },
            "type": "scatterpolar"
           }
          ],
          "scatterpolargl": [
           {
            "marker": {
             "colorbar": {
              "outlinewidth": 0,
              "ticks": ""
             }
            },
            "type": "scatterpolargl"
           }
          ],
          "scatterternary": [
           {
            "marker": {
             "colorbar": {
              "outlinewidth": 0,
              "ticks": ""
             }
            },
            "type": "scatterternary"
           }
          ],
          "surface": [
           {
            "colorbar": {
             "outlinewidth": 0,
             "ticks": ""
            },
            "colorscale": [
             [
              0,
              "#0d0887"
             ],
             [
              0.1111111111111111,
              "#46039f"
             ],
             [
              0.2222222222222222,
              "#7201a8"
             ],
             [
              0.3333333333333333,
              "#9c179e"
             ],
             [
              0.4444444444444444,
              "#bd3786"
             ],
             [
              0.5555555555555556,
              "#d8576b"
             ],
             [
              0.6666666666666666,
              "#ed7953"
             ],
             [
              0.7777777777777778,
              "#fb9f3a"
             ],
             [
              0.8888888888888888,
              "#fdca26"
             ],
             [
              1,
              "#f0f921"
             ]
            ],
            "type": "surface"
           }
          ],
          "table": [
           {
            "cells": {
             "fill": {
              "color": "#EBF0F8"
             },
             "line": {
              "color": "white"
             }
            },
            "header": {
             "fill": {
              "color": "#C8D4E3"
             },
             "line": {
              "color": "white"
             }
            },
            "type": "table"
           }
          ]
         },
         "layout": {
          "annotationdefaults": {
           "arrowcolor": "#2a3f5f",
           "arrowhead": 0,
           "arrowwidth": 1
          },
          "autotypenumbers": "strict",
          "coloraxis": {
           "colorbar": {
            "outlinewidth": 0,
            "ticks": ""
           }
          },
          "colorscale": {
           "diverging": [
            [
             0,
             "#8e0152"
            ],
            [
             0.1,
             "#c51b7d"
            ],
            [
             0.2,
             "#de77ae"
            ],
            [
             0.3,
             "#f1b6da"
            ],
            [
             0.4,
             "#fde0ef"
            ],
            [
             0.5,
             "#f7f7f7"
            ],
            [
             0.6,
             "#e6f5d0"
            ],
            [
             0.7,
             "#b8e186"
            ],
            [
             0.8,
             "#7fbc41"
            ],
            [
             0.9,
             "#4d9221"
            ],
            [
             1,
             "#276419"
            ]
           ],
           "sequential": [
            [
             0,
             "#0d0887"
            ],
            [
             0.1111111111111111,
             "#46039f"
            ],
            [
             0.2222222222222222,
             "#7201a8"
            ],
            [
             0.3333333333333333,
             "#9c179e"
            ],
            [
             0.4444444444444444,
             "#bd3786"
            ],
            [
             0.5555555555555556,
             "#d8576b"
            ],
            [
             0.6666666666666666,
             "#ed7953"
            ],
            [
             0.7777777777777778,
             "#fb9f3a"
            ],
            [
             0.8888888888888888,
             "#fdca26"
            ],
            [
             1,
             "#f0f921"
            ]
           ],
           "sequentialminus": [
            [
             0,
             "#0d0887"
            ],
            [
             0.1111111111111111,
             "#46039f"
            ],
            [
             0.2222222222222222,
             "#7201a8"
            ],
            [
             0.3333333333333333,
             "#9c179e"
            ],
            [
             0.4444444444444444,
             "#bd3786"
            ],
            [
             0.5555555555555556,
             "#d8576b"
            ],
            [
             0.6666666666666666,
             "#ed7953"
            ],
            [
             0.7777777777777778,
             "#fb9f3a"
            ],
            [
             0.8888888888888888,
             "#fdca26"
            ],
            [
             1,
             "#f0f921"
            ]
           ]
          },
          "colorway": [
           "#636efa",
           "#EF553B",
           "#00cc96",
           "#ab63fa",
           "#FFA15A",
           "#19d3f3",
           "#FF6692",
           "#B6E880",
           "#FF97FF",
           "#FECB52"
          ],
          "font": {
           "color": "#2a3f5f"
          },
          "geo": {
           "bgcolor": "white",
           "lakecolor": "white",
           "landcolor": "#E5ECF6",
           "showlakes": true,
           "showland": true,
           "subunitcolor": "white"
          },
          "hoverlabel": {
           "align": "left"
          },
          "hovermode": "closest",
          "mapbox": {
           "style": "light"
          },
          "paper_bgcolor": "white",
          "plot_bgcolor": "#E5ECF6",
          "polar": {
           "angularaxis": {
            "gridcolor": "white",
            "linecolor": "white",
            "ticks": ""
           },
           "bgcolor": "#E5ECF6",
           "radialaxis": {
            "gridcolor": "white",
            "linecolor": "white",
            "ticks": ""
           }
          },
          "scene": {
           "xaxis": {
            "backgroundcolor": "#E5ECF6",
            "gridcolor": "white",
            "gridwidth": 2,
            "linecolor": "white",
            "showbackground": true,
            "ticks": "",
            "zerolinecolor": "white"
           },
           "yaxis": {
            "backgroundcolor": "#E5ECF6",
            "gridcolor": "white",
            "gridwidth": 2,
            "linecolor": "white",
            "showbackground": true,
            "ticks": "",
            "zerolinecolor": "white"
           },
           "zaxis": {
            "backgroundcolor": "#E5ECF6",
            "gridcolor": "white",
            "gridwidth": 2,
            "linecolor": "white",
            "showbackground": true,
            "ticks": "",
            "zerolinecolor": "white"
           }
          },
          "shapedefaults": {
           "line": {
            "color": "#2a3f5f"
           }
          },
          "ternary": {
           "aaxis": {
            "gridcolor": "white",
            "linecolor": "white",
            "ticks": ""
           },
           "baxis": {
            "gridcolor": "white",
            "linecolor": "white",
            "ticks": ""
           },
           "bgcolor": "#E5ECF6",
           "caxis": {
            "gridcolor": "white",
            "linecolor": "white",
            "ticks": ""
           }
          },
          "title": {
           "x": 0.05
          },
          "xaxis": {
           "automargin": true,
           "gridcolor": "white",
           "linecolor": "white",
           "ticks": "",
           "title": {
            "standoff": 15
           },
           "zerolinecolor": "white",
           "zerolinewidth": 2
          },
          "yaxis": {
           "automargin": true,
           "gridcolor": "white",
           "linecolor": "white",
           "ticks": "",
           "title": {
            "standoff": 15
           },
           "zerolinecolor": "white",
           "zerolinewidth": 2
          }
         }
        },
        "xaxis": {
         "anchor": "y",
         "domain": [
          0,
          1
         ],
         "title": {
          "text": "Periodo"
         }
        },
        "yaxis": {
         "anchor": "x",
         "domain": [
          0,
          1
         ],
         "title": {
          "text": "Total"
         }
        }
       }
      }
     },
     "metadata": {},
     "output_type": "display_data"
    }
   ],
   "source": [
    "import plotly.express as px\n",
    "\n",
    "fig = px.scatter(both_genders_nac_grouped, x=\"Periodo\", y=\"Total\", color=\"Nacionalidad\", trendline='ols')\n",
    "# fig.update_traces(selector=dict(mode='markers'), visible = False, )\n",
    "fig.show()"
   ]
  }
 ],
 "metadata": {
  "kernelspec": {
   "display_name": "Python 3",
   "language": "python",
   "name": "python3"
  },
  "language_info": {
   "codemirror_mode": {
    "name": "ipython",
    "version": 3
   },
   "file_extension": ".py",
   "mimetype": "text/x-python",
   "name": "python",
   "nbconvert_exporter": "python",
   "pygments_lexer": "ipython3",
   "version": "3.7.4"
  },
  "orig_nbformat": 4,
  "vscode": {
   "interpreter": {
    "hash": "36072dc70da23f6a7dd1c68cdc94038b6131d731212e995032884d4bb119d6e7"
   }
  }
 },
 "nbformat": 4,
 "nbformat_minor": 2
}
