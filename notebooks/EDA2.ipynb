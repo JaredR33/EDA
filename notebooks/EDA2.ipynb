{
 "cells": [
  {
   "cell_type": "code",
   "execution_count": 2,
   "metadata": {},
   "outputs": [],
   "source": [
    "import pandas as pd\n",
    "import numpy as np\n",
    "\n"
   ]
  },
  {
   "cell_type": "code",
   "execution_count": 42,
   "metadata": {},
   "outputs": [
    {
     "data": {
      "text/html": [
       "<div>\n",
       "<style scoped>\n",
       "    .dataframe tbody tr th:only-of-type {\n",
       "        vertical-align: middle;\n",
       "    }\n",
       "\n",
       "    .dataframe tbody tr th {\n",
       "        vertical-align: top;\n",
       "    }\n",
       "\n",
       "    .dataframe thead th {\n",
       "        text-align: right;\n",
       "    }\n",
       "</style>\n",
       "<table border=\"1\" class=\"dataframe\">\n",
       "  <thead>\n",
       "    <tr style=\"text-align: right;\">\n",
       "      <th></th>\n",
       "      <th>Nacionalidad</th>\n",
       "      <th>Sexo</th>\n",
       "      <th>Periodo</th>\n",
       "      <th>Total</th>\n",
       "    </tr>\n",
       "  </thead>\n",
       "  <tbody>\n",
       "    <tr>\n",
       "      <th>0</th>\n",
       "      <td>Total</td>\n",
       "      <td>Ambos sexos</td>\n",
       "      <td>2020</td>\n",
       "      <td>25.165,51</td>\n",
       "    </tr>\n",
       "    <tr>\n",
       "      <th>1</th>\n",
       "      <td>Total</td>\n",
       "      <td>Ambos sexos</td>\n",
       "      <td>2019</td>\n",
       "      <td>24.395,98</td>\n",
       "    </tr>\n",
       "    <tr>\n",
       "      <th>2</th>\n",
       "      <td>Total</td>\n",
       "      <td>Ambos sexos</td>\n",
       "      <td>2018</td>\n",
       "      <td>24.009,12</td>\n",
       "    </tr>\n",
       "    <tr>\n",
       "      <th>3</th>\n",
       "      <td>Total</td>\n",
       "      <td>Ambos sexos</td>\n",
       "      <td>2017</td>\n",
       "      <td>23.646,5</td>\n",
       "    </tr>\n",
       "    <tr>\n",
       "      <th>4</th>\n",
       "      <td>Total</td>\n",
       "      <td>Ambos sexos</td>\n",
       "      <td>2016</td>\n",
       "      <td>23.156,34</td>\n",
       "    </tr>\n",
       "  </tbody>\n",
       "</table>\n",
       "</div>"
      ],
      "text/plain": [
       "  Nacionalidad         Sexo  Periodo      Total\n",
       "0        Total  Ambos sexos     2020  25.165,51\n",
       "1        Total  Ambos sexos     2019  24.395,98\n",
       "2        Total  Ambos sexos     2018  24.009,12\n",
       "3        Total  Ambos sexos     2017   23.646,5\n",
       "4        Total  Ambos sexos     2016  23.156,34"
      ]
     },
     "execution_count": 42,
     "metadata": {},
     "output_type": "execute_result"
    }
   ],
   "source": [
    "df_ganancias_sexoNacionalidad = pd.read_csv('data\\Ganancia_anual_sexo&nac.csv', sep = '\\t')\n",
    "df_ganancias_sexoNacionalidad.head()"
   ]
  },
  {
   "cell_type": "code",
   "execution_count": 46,
   "metadata": {},
   "outputs": [
    {
     "data": {
      "text/html": [
       "<div>\n",
       "<style scoped>\n",
       "    .dataframe tbody tr th:only-of-type {\n",
       "        vertical-align: middle;\n",
       "    }\n",
       "\n",
       "    .dataframe tbody tr th {\n",
       "        vertical-align: top;\n",
       "    }\n",
       "\n",
       "    .dataframe thead th {\n",
       "        text-align: right;\n",
       "    }\n",
       "</style>\n",
       "<table border=\"1\" class=\"dataframe\">\n",
       "  <thead>\n",
       "    <tr style=\"text-align: right;\">\n",
       "      <th></th>\n",
       "      <th>Nacionalidad</th>\n",
       "      <th>Tipo de jornada</th>\n",
       "      <th>Decil</th>\n",
       "      <th>Periodo</th>\n",
       "      <th>Total</th>\n",
       "    </tr>\n",
       "  </thead>\n",
       "  <tbody>\n",
       "    <tr>\n",
       "      <th>0</th>\n",
       "      <td>Total</td>\n",
       "      <td>Jornada a tiempo completo</td>\n",
       "      <td>Total decil</td>\n",
       "      <td>2021</td>\n",
       "      <td>2.313,13</td>\n",
       "    </tr>\n",
       "    <tr>\n",
       "      <th>11</th>\n",
       "      <td>Española</td>\n",
       "      <td>Jornada a tiempo completo</td>\n",
       "      <td>Total decil</td>\n",
       "      <td>2021</td>\n",
       "      <td>2.396,34</td>\n",
       "    </tr>\n",
       "    <tr>\n",
       "      <th>22</th>\n",
       "      <td>Española y doble nacionalidad</td>\n",
       "      <td>Jornada a tiempo completo</td>\n",
       "      <td>Total decil</td>\n",
       "      <td>2021</td>\n",
       "      <td>1.945,53</td>\n",
       "    </tr>\n",
       "    <tr>\n",
       "      <th>33</th>\n",
       "      <td>Extranjera</td>\n",
       "      <td>Jornada a tiempo completo</td>\n",
       "      <td>Total decil</td>\n",
       "      <td>2021</td>\n",
       "      <td>1.821,24</td>\n",
       "    </tr>\n",
       "  </tbody>\n",
       "</table>\n",
       "</div>"
      ],
      "text/plain": [
       "                     Nacionalidad            Tipo de jornada        Decil  \\\n",
       "0                           Total  Jornada a tiempo completo  Total decil   \n",
       "11                       Española  Jornada a tiempo completo  Total decil   \n",
       "22  Española y doble nacionalidad  Jornada a tiempo completo  Total decil   \n",
       "33                     Extranjera  Jornada a tiempo completo  Total decil   \n",
       "\n",
       "    Periodo     Total  \n",
       "0      2021  2.313,13  \n",
       "11     2021  2.396,34  \n",
       "22     2021  1.945,53  \n",
       "33     2021  1.821,24  "
      ]
     },
     "execution_count": 46,
     "metadata": {},
     "output_type": "execute_result"
    }
   ],
   "source": [
    "ganancias2021 = pd.read_csv(\"data\\Salarios mes 2021 .csv\", sep = '\\t', encoding='Latin1')\n",
    "ganancias2021[ganancias2021['Decil'] == 'Total decil']"
   ]
  },
  {
   "cell_type": "code",
   "execution_count": 5,
   "metadata": {},
   "outputs": [
    {
     "name": "stdout",
     "output_type": "stream",
     "text": [
      "<class 'pandas.core.frame.DataFrame'>\n",
      "RangeIndex: 273 entries, 0 to 272\n",
      "Data columns (total 4 columns):\n",
      " #   Column        Non-Null Count  Dtype \n",
      "---  ------        --------------  ----- \n",
      " 0   Nacionalidad  273 non-null    object\n",
      " 1   Sexo          273 non-null    object\n",
      " 2   Periodo       273 non-null    int64 \n",
      " 3   Total         273 non-null    object\n",
      "dtypes: int64(1), object(3)\n",
      "memory usage: 8.7+ KB\n"
     ]
    }
   ],
   "source": [
    "df_ganancias_sexoNacionalidad.info()"
   ]
  },
  {
   "attachments": {},
   "cell_type": "markdown",
   "metadata": {},
   "source": [
    "## LIMPIEZA DE DATOS ##"
   ]
  },
  {
   "attachments": {},
   "cell_type": "markdown",
   "metadata": {},
   "source": [
    "lo primero que tengo que hacer es convertir la columna total a float con el que pueda trabajar\n",
    "\n",
    "#nota: el '-' delante de los numeros (según leido en la documentacion de los datos procedentes de ine.es)significa una cantidad de muestreo mas reducida, pero no un numero negativo"
   ]
  },
  {
   "cell_type": "code",
   "execution_count": 47,
   "metadata": {},
   "outputs": [
    {
     "name": "stderr",
     "output_type": "stream",
     "text": [
      "C:\\Users\\rivas\\AppData\\Roaming\\Python\\Python37\\site-packages\\ipykernel_launcher.py:3: FutureWarning:\n",
      "\n",
      "The default value of regex will change from True to False in a future version. In addition, single character regular expressions will *not* be treated as literal strings when regex=True.\n",
      "\n"
     ]
    }
   ],
   "source": [
    "#hay alguna manera más elegante de hacer esto?\n",
    "\n",
    "df_ganancias_sexoNacionalidad['Total'] = df_ganancias_sexoNacionalidad['Total'].str.replace('.','')\n",
    "df_ganancias_sexoNacionalidad['Total'] = df_ganancias_sexoNacionalidad['Total'].str.replace(',','.')\n",
    "df_ganancias_sexoNacionalidad['Total'] = df_ganancias_sexoNacionalidad['Total'].str.replace('-','')\n"
   ]
  },
  {
   "cell_type": "code",
   "execution_count": 48,
   "metadata": {},
   "outputs": [
    {
     "data": {
      "text/plain": [
       "0      25165.51\n",
       "1      24395.98\n",
       "2      24009.12\n",
       "3      23646.50\n",
       "4      23156.34\n",
       "         ...   \n",
       "268    12887.57\n",
       "269    12526.02\n",
       "270    14229.75\n",
       "271    12174.59\n",
       "272    12774.99\n",
       "Name: Total, Length: 273, dtype: float64"
      ]
     },
     "execution_count": 48,
     "metadata": {},
     "output_type": "execute_result"
    }
   ],
   "source": [
    "#por alguna razon, al hacer esto se me genera un NaN en muj 2009 otros paises\n",
    "df_ganancias_sexoNacionalidad['Total'] = pd.to_numeric(df_ganancias_sexoNacionalidad['Total'])\n",
    "df_ganancias_sexoNacionalidad['Total']\n",
    "\n",
    "\n",
    "\n"
   ]
  },
  {
   "cell_type": "code",
   "execution_count": 49,
   "metadata": {},
   "outputs": [
    {
     "data": {
      "text/html": [
       "<div>\n",
       "<style scoped>\n",
       "    .dataframe tbody tr th:only-of-type {\n",
       "        vertical-align: middle;\n",
       "    }\n",
       "\n",
       "    .dataframe tbody tr th {\n",
       "        vertical-align: top;\n",
       "    }\n",
       "\n",
       "    .dataframe thead th {\n",
       "        text-align: right;\n",
       "    }\n",
       "</style>\n",
       "<table border=\"1\" class=\"dataframe\">\n",
       "  <thead>\n",
       "    <tr style=\"text-align: right;\">\n",
       "      <th></th>\n",
       "      <th>Nacionalidad</th>\n",
       "      <th>Sexo</th>\n",
       "      <th>Periodo</th>\n",
       "      <th>Total</th>\n",
       "    </tr>\n",
       "  </thead>\n",
       "  <tbody>\n",
       "    <tr>\n",
       "      <th>258</th>\n",
       "      <td>Otros países</td>\n",
       "      <td>Mujeres</td>\n",
       "      <td>2009</td>\n",
       "      <td>NaN</td>\n",
       "    </tr>\n",
       "  </tbody>\n",
       "</table>\n",
       "</div>"
      ],
      "text/plain": [
       "     Nacionalidad     Sexo  Periodo  Total\n",
       "258  Otros países  Mujeres     2009    NaN"
      ]
     },
     "execution_count": 49,
     "metadata": {},
     "output_type": "execute_result"
    }
   ],
   "source": [
    "#arreglar el NaN \n",
    "df_ganancias_sexoNacionalidad[df_ganancias_sexoNacionalidad['Total'].isnull()]"
   ]
  },
  {
   "cell_type": "code",
   "execution_count": 50,
   "metadata": {},
   "outputs": [
    {
     "data": {
      "text/plain": [
       "11856.730833333333"
      ]
     },
     "execution_count": 50,
     "metadata": {},
     "output_type": "execute_result"
    }
   ],
   "source": [
    "#quiero arreglar el NaN con la media de los demás años en otros paises 'mujeres'. \n",
    "df_ganancias_sexoNacionalidad[(df_ganancias_sexoNacionalidad['Nacionalidad'] == 'Otros países') & (df_ganancias_sexoNacionalidad['Sexo'] == 'Mujeres')]['Total'].mean()\n",
    "\n"
   ]
  },
  {
   "cell_type": "code",
   "execution_count": 51,
   "metadata": {},
   "outputs": [
    {
     "data": {
      "text/html": [
       "<div>\n",
       "<style scoped>\n",
       "    .dataframe tbody tr th:only-of-type {\n",
       "        vertical-align: middle;\n",
       "    }\n",
       "\n",
       "    .dataframe tbody tr th {\n",
       "        vertical-align: top;\n",
       "    }\n",
       "\n",
       "    .dataframe thead th {\n",
       "        text-align: right;\n",
       "    }\n",
       "</style>\n",
       "<table border=\"1\" class=\"dataframe\">\n",
       "  <thead>\n",
       "    <tr style=\"text-align: right;\">\n",
       "      <th></th>\n",
       "      <th>Nacionalidad</th>\n",
       "      <th>Sexo</th>\n",
       "      <th>Periodo</th>\n",
       "      <th>Total</th>\n",
       "    </tr>\n",
       "  </thead>\n",
       "  <tbody>\n",
       "    <tr>\n",
       "      <th>247</th>\n",
       "      <td>Otros países</td>\n",
       "      <td>Mujeres</td>\n",
       "      <td>2020</td>\n",
       "      <td>15742.510000</td>\n",
       "    </tr>\n",
       "    <tr>\n",
       "      <th>248</th>\n",
       "      <td>Otros países</td>\n",
       "      <td>Mujeres</td>\n",
       "      <td>2019</td>\n",
       "      <td>14444.860000</td>\n",
       "    </tr>\n",
       "    <tr>\n",
       "      <th>249</th>\n",
       "      <td>Otros países</td>\n",
       "      <td>Mujeres</td>\n",
       "      <td>2018</td>\n",
       "      <td>15127.930000</td>\n",
       "    </tr>\n",
       "    <tr>\n",
       "      <th>250</th>\n",
       "      <td>Otros países</td>\n",
       "      <td>Mujeres</td>\n",
       "      <td>2017</td>\n",
       "      <td>11144.560000</td>\n",
       "    </tr>\n",
       "    <tr>\n",
       "      <th>251</th>\n",
       "      <td>Otros países</td>\n",
       "      <td>Mujeres</td>\n",
       "      <td>2016</td>\n",
       "      <td>9459.960000</td>\n",
       "    </tr>\n",
       "    <tr>\n",
       "      <th>252</th>\n",
       "      <td>Otros países</td>\n",
       "      <td>Mujeres</td>\n",
       "      <td>2015</td>\n",
       "      <td>9269.160000</td>\n",
       "    </tr>\n",
       "    <tr>\n",
       "      <th>253</th>\n",
       "      <td>Otros países</td>\n",
       "      <td>Mujeres</td>\n",
       "      <td>2014</td>\n",
       "      <td>11108.650000</td>\n",
       "    </tr>\n",
       "    <tr>\n",
       "      <th>254</th>\n",
       "      <td>Otros países</td>\n",
       "      <td>Mujeres</td>\n",
       "      <td>2013</td>\n",
       "      <td>10073.560000</td>\n",
       "    </tr>\n",
       "    <tr>\n",
       "      <th>255</th>\n",
       "      <td>Otros países</td>\n",
       "      <td>Mujeres</td>\n",
       "      <td>2012</td>\n",
       "      <td>11486.400000</td>\n",
       "    </tr>\n",
       "    <tr>\n",
       "      <th>256</th>\n",
       "      <td>Otros países</td>\n",
       "      <td>Mujeres</td>\n",
       "      <td>2011</td>\n",
       "      <td>11355.960000</td>\n",
       "    </tr>\n",
       "    <tr>\n",
       "      <th>257</th>\n",
       "      <td>Otros países</td>\n",
       "      <td>Mujeres</td>\n",
       "      <td>2010</td>\n",
       "      <td>13145.770000</td>\n",
       "    </tr>\n",
       "    <tr>\n",
       "      <th>258</th>\n",
       "      <td>Otros países</td>\n",
       "      <td>Mujeres</td>\n",
       "      <td>2009</td>\n",
       "      <td>11856.730833</td>\n",
       "    </tr>\n",
       "    <tr>\n",
       "      <th>259</th>\n",
       "      <td>Otros países</td>\n",
       "      <td>Mujeres</td>\n",
       "      <td>2008</td>\n",
       "      <td>9921.450000</td>\n",
       "    </tr>\n",
       "  </tbody>\n",
       "</table>\n",
       "</div>"
      ],
      "text/plain": [
       "     Nacionalidad     Sexo  Periodo         Total\n",
       "247  Otros países  Mujeres     2020  15742.510000\n",
       "248  Otros países  Mujeres     2019  14444.860000\n",
       "249  Otros países  Mujeres     2018  15127.930000\n",
       "250  Otros países  Mujeres     2017  11144.560000\n",
       "251  Otros países  Mujeres     2016   9459.960000\n",
       "252  Otros países  Mujeres     2015   9269.160000\n",
       "253  Otros países  Mujeres     2014  11108.650000\n",
       "254  Otros países  Mujeres     2013  10073.560000\n",
       "255  Otros países  Mujeres     2012  11486.400000\n",
       "256  Otros países  Mujeres     2011  11355.960000\n",
       "257  Otros países  Mujeres     2010  13145.770000\n",
       "258  Otros países  Mujeres     2009  11856.730833\n",
       "259  Otros países  Mujeres     2008   9921.450000"
      ]
     },
     "execution_count": 51,
     "metadata": {},
     "output_type": "execute_result"
    }
   ],
   "source": [
    "df_ganancias_sexoNacionalidad['Total'].fillna(df_ganancias_sexoNacionalidad[(df_ganancias_sexoNacionalidad['Nacionalidad'] == 'Otros países') & (df_ganancias_sexoNacionalidad['Sexo'] == 'Mujeres')]['Total'].mean(), inplace= True)\n",
    "df_ganancias_sexoNacionalidad[(df_ganancias_sexoNacionalidad['Nacionalidad'] == 'Otros países') & (df_ganancias_sexoNacionalidad['Sexo'] == 'Mujeres')]"
   ]
  },
  {
   "cell_type": "code",
   "execution_count": 40,
   "metadata": {},
   "outputs": [],
   "source": [
    "#convertimos periodo a string porque no me interesa tratar los años como int\n",
    "# df_ganancias_sexoNacionalidad['Periodo'] = df_ganancias_sexoNacionalidad['Periodo'].to_string()"
   ]
  },
  {
   "cell_type": "code",
   "execution_count": 52,
   "metadata": {},
   "outputs": [
    {
     "name": "stdout",
     "output_type": "stream",
     "text": [
      "<class 'pandas.core.frame.DataFrame'>\n",
      "RangeIndex: 273 entries, 0 to 272\n",
      "Data columns (total 4 columns):\n",
      " #   Column        Non-Null Count  Dtype  \n",
      "---  ------        --------------  -----  \n",
      " 0   Nacionalidad  273 non-null    object \n",
      " 1   Sexo          273 non-null    object \n",
      " 2   Periodo       273 non-null    int64  \n",
      " 3   Total         273 non-null    float64\n",
      "dtypes: float64(1), int64(1), object(2)\n",
      "memory usage: 8.7+ KB\n"
     ]
    }
   ],
   "source": [
    "df_ganancias_sexoNacionalidad.info()"
   ]
  },
  {
   "cell_type": "code",
   "execution_count": 112,
   "metadata": {},
   "outputs": [],
   "source": [
    "#conversión hecha. Ahora puedo hacer un groupby y ver cosas interesantes\n",
    "\n"
   ]
  },
  {
   "cell_type": "code",
   "execution_count": 53,
   "metadata": {},
   "outputs": [
    {
     "data": {
      "text/plain": [
       "Total                         39\n",
       "Española                      39\n",
       "País de la UE28 sin España    39\n",
       "País de Europa menos UE28     39\n",
       "De Africa                     39\n",
       "De América                    39\n",
       "Otros países                  39\n",
       "Name: Nacionalidad, dtype: int64"
      ]
     },
     "execution_count": 53,
     "metadata": {},
     "output_type": "execute_result"
    }
   ],
   "source": [
    "df_ganancias_sexoNacionalidad.Nacionalidad.value_counts()"
   ]
  },
  {
   "cell_type": "code",
   "execution_count": 43,
   "metadata": {},
   "outputs": [],
   "source": [
    "pd.set_option('display.max_rows', 300)"
   ]
  },
  {
   "cell_type": "code",
   "execution_count": 54,
   "metadata": {},
   "outputs": [
    {
     "data": {
      "text/html": [
       "<div>\n",
       "<style scoped>\n",
       "    .dataframe tbody tr th:only-of-type {\n",
       "        vertical-align: middle;\n",
       "    }\n",
       "\n",
       "    .dataframe tbody tr th {\n",
       "        vertical-align: top;\n",
       "    }\n",
       "\n",
       "    .dataframe thead th {\n",
       "        text-align: right;\n",
       "    }\n",
       "</style>\n",
       "<table border=\"1\" class=\"dataframe\">\n",
       "  <thead>\n",
       "    <tr style=\"text-align: right;\">\n",
       "      <th></th>\n",
       "      <th>Nacionalidad</th>\n",
       "      <th>Sexo</th>\n",
       "      <th>Periodo</th>\n",
       "      <th>Total</th>\n",
       "    </tr>\n",
       "  </thead>\n",
       "  <tbody>\n",
       "    <tr>\n",
       "      <th>0</th>\n",
       "      <td>De Africa</td>\n",
       "      <td>Ambos sexos</td>\n",
       "      <td>2014.0</td>\n",
       "      <td>15283.835385</td>\n",
       "    </tr>\n",
       "    <tr>\n",
       "      <th>1</th>\n",
       "      <td>De Africa</td>\n",
       "      <td>Hombres</td>\n",
       "      <td>2014.0</td>\n",
       "      <td>16267.888462</td>\n",
       "    </tr>\n",
       "    <tr>\n",
       "      <th>2</th>\n",
       "      <td>De Africa</td>\n",
       "      <td>Mujeres</td>\n",
       "      <td>2014.0</td>\n",
       "      <td>12103.980000</td>\n",
       "    </tr>\n",
       "    <tr>\n",
       "      <th>3</th>\n",
       "      <td>De América</td>\n",
       "      <td>Ambos sexos</td>\n",
       "      <td>2014.0</td>\n",
       "      <td>14997.710769</td>\n",
       "    </tr>\n",
       "    <tr>\n",
       "      <th>4</th>\n",
       "      <td>De América</td>\n",
       "      <td>Hombres</td>\n",
       "      <td>2014.0</td>\n",
       "      <td>16623.798462</td>\n",
       "    </tr>\n",
       "    <tr>\n",
       "      <th>5</th>\n",
       "      <td>De América</td>\n",
       "      <td>Mujeres</td>\n",
       "      <td>2014.0</td>\n",
       "      <td>13079.199231</td>\n",
       "    </tr>\n",
       "    <tr>\n",
       "      <th>6</th>\n",
       "      <td>Española</td>\n",
       "      <td>Ambos sexos</td>\n",
       "      <td>2014.0</td>\n",
       "      <td>23711.827692</td>\n",
       "    </tr>\n",
       "    <tr>\n",
       "      <th>7</th>\n",
       "      <td>Española</td>\n",
       "      <td>Hombres</td>\n",
       "      <td>2014.0</td>\n",
       "      <td>26567.420769</td>\n",
       "    </tr>\n",
       "    <tr>\n",
       "      <th>8</th>\n",
       "      <td>Española</td>\n",
       "      <td>Mujeres</td>\n",
       "      <td>2014.0</td>\n",
       "      <td>20586.678462</td>\n",
       "    </tr>\n",
       "    <tr>\n",
       "      <th>9</th>\n",
       "      <td>Otros países</td>\n",
       "      <td>Ambos sexos</td>\n",
       "      <td>2014.0</td>\n",
       "      <td>13584.080769</td>\n",
       "    </tr>\n",
       "    <tr>\n",
       "      <th>10</th>\n",
       "      <td>Otros países</td>\n",
       "      <td>Hombres</td>\n",
       "      <td>2014.0</td>\n",
       "      <td>14359.201538</td>\n",
       "    </tr>\n",
       "    <tr>\n",
       "      <th>11</th>\n",
       "      <td>Otros países</td>\n",
       "      <td>Mujeres</td>\n",
       "      <td>2014.0</td>\n",
       "      <td>11856.730833</td>\n",
       "    </tr>\n",
       "    <tr>\n",
       "      <th>12</th>\n",
       "      <td>País de Europa menos UE28</td>\n",
       "      <td>Ambos sexos</td>\n",
       "      <td>2014.0</td>\n",
       "      <td>15965.481538</td>\n",
       "    </tr>\n",
       "    <tr>\n",
       "      <th>13</th>\n",
       "      <td>País de Europa menos UE28</td>\n",
       "      <td>Hombres</td>\n",
       "      <td>2014.0</td>\n",
       "      <td>18498.437692</td>\n",
       "    </tr>\n",
       "    <tr>\n",
       "      <th>14</th>\n",
       "      <td>País de Europa menos UE28</td>\n",
       "      <td>Mujeres</td>\n",
       "      <td>2014.0</td>\n",
       "      <td>13925.209231</td>\n",
       "    </tr>\n",
       "    <tr>\n",
       "      <th>15</th>\n",
       "      <td>País de la UE28 sin España</td>\n",
       "      <td>Ambos sexos</td>\n",
       "      <td>2014.0</td>\n",
       "      <td>19074.315385</td>\n",
       "    </tr>\n",
       "    <tr>\n",
       "      <th>16</th>\n",
       "      <td>País de la UE28 sin España</td>\n",
       "      <td>Hombres</td>\n",
       "      <td>2014.0</td>\n",
       "      <td>21491.463846</td>\n",
       "    </tr>\n",
       "    <tr>\n",
       "      <th>17</th>\n",
       "      <td>País de la UE28 sin España</td>\n",
       "      <td>Mujeres</td>\n",
       "      <td>2014.0</td>\n",
       "      <td>16247.573846</td>\n",
       "    </tr>\n",
       "    <tr>\n",
       "      <th>18</th>\n",
       "      <td>Total</td>\n",
       "      <td>Ambos sexos</td>\n",
       "      <td>2014.0</td>\n",
       "      <td>23218.973846</td>\n",
       "    </tr>\n",
       "    <tr>\n",
       "      <th>19</th>\n",
       "      <td>Total</td>\n",
       "      <td>Hombres</td>\n",
       "      <td>2014.0</td>\n",
       "      <td>25927.737692</td>\n",
       "    </tr>\n",
       "    <tr>\n",
       "      <th>20</th>\n",
       "      <td>Total</td>\n",
       "      <td>Mujeres</td>\n",
       "      <td>2014.0</td>\n",
       "      <td>20204.954615</td>\n",
       "    </tr>\n",
       "  </tbody>\n",
       "</table>\n",
       "</div>"
      ],
      "text/plain": [
       "                  Nacionalidad         Sexo  Periodo         Total\n",
       "0                    De Africa  Ambos sexos   2014.0  15283.835385\n",
       "1                    De Africa      Hombres   2014.0  16267.888462\n",
       "2                    De Africa      Mujeres   2014.0  12103.980000\n",
       "3                   De América  Ambos sexos   2014.0  14997.710769\n",
       "4                   De América      Hombres   2014.0  16623.798462\n",
       "5                   De América      Mujeres   2014.0  13079.199231\n",
       "6                     Española  Ambos sexos   2014.0  23711.827692\n",
       "7                     Española      Hombres   2014.0  26567.420769\n",
       "8                     Española      Mujeres   2014.0  20586.678462\n",
       "9                 Otros países  Ambos sexos   2014.0  13584.080769\n",
       "10                Otros países      Hombres   2014.0  14359.201538\n",
       "11                Otros países      Mujeres   2014.0  11856.730833\n",
       "12   País de Europa menos UE28  Ambos sexos   2014.0  15965.481538\n",
       "13   País de Europa menos UE28      Hombres   2014.0  18498.437692\n",
       "14   País de Europa menos UE28      Mujeres   2014.0  13925.209231\n",
       "15  País de la UE28 sin España  Ambos sexos   2014.0  19074.315385\n",
       "16  País de la UE28 sin España      Hombres   2014.0  21491.463846\n",
       "17  País de la UE28 sin España      Mujeres   2014.0  16247.573846\n",
       "18                       Total  Ambos sexos   2014.0  23218.973846\n",
       "19                       Total      Hombres   2014.0  25927.737692\n",
       "20                       Total      Mujeres   2014.0  20204.954615"
      ]
     },
     "execution_count": 54,
     "metadata": {},
     "output_type": "execute_result"
    }
   ],
   "source": [
    "df_grouped = pd.DataFrame(df_ganancias_sexoNacionalidad.groupby([('Nacionalidad'),('Sexo')], as_index=False).mean())\n",
    "df_grouped\n",
    "#Media por lugar de origen y sexo de 2008 a 2020"
   ]
  },
  {
   "cell_type": "code",
   "execution_count": 55,
   "metadata": {},
   "outputs": [
    {
     "data": {
      "text/html": [
       "<div>\n",
       "<style scoped>\n",
       "    .dataframe tbody tr th:only-of-type {\n",
       "        vertical-align: middle;\n",
       "    }\n",
       "\n",
       "    .dataframe tbody tr th {\n",
       "        vertical-align: top;\n",
       "    }\n",
       "\n",
       "    .dataframe thead th {\n",
       "        text-align: right;\n",
       "    }\n",
       "</style>\n",
       "<table border=\"1\" class=\"dataframe\">\n",
       "  <thead>\n",
       "    <tr style=\"text-align: right;\">\n",
       "      <th></th>\n",
       "      <th>Nacionalidad</th>\n",
       "      <th>Sexo</th>\n",
       "      <th>Periodo</th>\n",
       "      <th>Total</th>\n",
       "    </tr>\n",
       "  </thead>\n",
       "  <tbody>\n",
       "    <tr>\n",
       "      <th>0</th>\n",
       "      <td>Total</td>\n",
       "      <td>Ambos sexos</td>\n",
       "      <td>2020</td>\n",
       "      <td>25165.51</td>\n",
       "    </tr>\n",
       "    <tr>\n",
       "      <th>1</th>\n",
       "      <td>Total</td>\n",
       "      <td>Ambos sexos</td>\n",
       "      <td>2019</td>\n",
       "      <td>24395.98</td>\n",
       "    </tr>\n",
       "    <tr>\n",
       "      <th>2</th>\n",
       "      <td>Total</td>\n",
       "      <td>Ambos sexos</td>\n",
       "      <td>2018</td>\n",
       "      <td>24009.12</td>\n",
       "    </tr>\n",
       "    <tr>\n",
       "      <th>3</th>\n",
       "      <td>Total</td>\n",
       "      <td>Ambos sexos</td>\n",
       "      <td>2017</td>\n",
       "      <td>23646.50</td>\n",
       "    </tr>\n",
       "    <tr>\n",
       "      <th>4</th>\n",
       "      <td>Total</td>\n",
       "      <td>Ambos sexos</td>\n",
       "      <td>2016</td>\n",
       "      <td>23156.34</td>\n",
       "    </tr>\n",
       "  </tbody>\n",
       "</table>\n",
       "</div>"
      ],
      "text/plain": [
       "  Nacionalidad         Sexo  Periodo     Total\n",
       "0        Total  Ambos sexos     2020  25165.51\n",
       "1        Total  Ambos sexos     2019  24395.98\n",
       "2        Total  Ambos sexos     2018  24009.12\n",
       "3        Total  Ambos sexos     2017  23646.50\n",
       "4        Total  Ambos sexos     2016  23156.34"
      ]
     },
     "execution_count": 55,
     "metadata": {},
     "output_type": "execute_result"
    }
   ],
   "source": [
    "df_ganancias_sexoNacionalidad.head()"
   ]
  },
  {
   "cell_type": "code",
   "execution_count": 56,
   "metadata": {},
   "outputs": [
    {
     "data": {
      "text/html": [
       "<div>\n",
       "<style scoped>\n",
       "    .dataframe tbody tr th:only-of-type {\n",
       "        vertical-align: middle;\n",
       "    }\n",
       "\n",
       "    .dataframe tbody tr th {\n",
       "        vertical-align: top;\n",
       "    }\n",
       "\n",
       "    .dataframe thead th {\n",
       "        text-align: right;\n",
       "    }\n",
       "</style>\n",
       "<table border=\"1\" class=\"dataframe\">\n",
       "  <thead>\n",
       "    <tr style=\"text-align: right;\">\n",
       "      <th></th>\n",
       "      <th></th>\n",
       "      <th>Total</th>\n",
       "    </tr>\n",
       "    <tr>\n",
       "      <th>Periodo</th>\n",
       "      <th>Nacionalidad</th>\n",
       "      <th></th>\n",
       "    </tr>\n",
       "  </thead>\n",
       "  <tbody>\n",
       "    <tr>\n",
       "      <th rowspan=\"5\" valign=\"top\">2008</th>\n",
       "      <th>De Africa</th>\n",
       "      <td>13727.660000</td>\n",
       "    </tr>\n",
       "    <tr>\n",
       "      <th>De América</th>\n",
       "      <td>13872.893333</td>\n",
       "    </tr>\n",
       "    <tr>\n",
       "      <th>Española</th>\n",
       "      <td>22271.040000</td>\n",
       "    </tr>\n",
       "    <tr>\n",
       "      <th>Otros países</th>\n",
       "      <td>11531.070000</td>\n",
       "    </tr>\n",
       "    <tr>\n",
       "      <th>País de Europa menos UE28</th>\n",
       "      <td>14336.993333</td>\n",
       "    </tr>\n",
       "    <tr>\n",
       "      <th>...</th>\n",
       "      <th>...</th>\n",
       "      <td>...</td>\n",
       "    </tr>\n",
       "    <tr>\n",
       "      <th rowspan=\"5\" valign=\"top\">2020</th>\n",
       "      <th>Española</th>\n",
       "      <td>25632.593333</td>\n",
       "    </tr>\n",
       "    <tr>\n",
       "      <th>Otros países</th>\n",
       "      <td>16316.820000</td>\n",
       "    </tr>\n",
       "    <tr>\n",
       "      <th>País de Europa menos UE28</th>\n",
       "      <td>19983.653333</td>\n",
       "    </tr>\n",
       "    <tr>\n",
       "      <th>País de la UE28 sin España</th>\n",
       "      <td>21675.216667</td>\n",
       "    </tr>\n",
       "    <tr>\n",
       "      <th>Total</th>\n",
       "      <td>25091.836667</td>\n",
       "    </tr>\n",
       "  </tbody>\n",
       "</table>\n",
       "<p>91 rows × 1 columns</p>\n",
       "</div>"
      ],
      "text/plain": [
       "                                           Total\n",
       "Periodo Nacionalidad                            \n",
       "2008    De Africa                   13727.660000\n",
       "        De América                  13872.893333\n",
       "        Española                    22271.040000\n",
       "        Otros países                11531.070000\n",
       "        País de Europa menos UE28   14336.993333\n",
       "...                                          ...\n",
       "2020    Española                    25632.593333\n",
       "        Otros países                16316.820000\n",
       "        País de Europa menos UE28   19983.653333\n",
       "        País de la UE28 sin España  21675.216667\n",
       "        Total                       25091.836667\n",
       "\n",
       "[91 rows x 1 columns]"
      ]
     },
     "execution_count": 56,
     "metadata": {},
     "output_type": "execute_result"
    }
   ],
   "source": [
    "df_ganancias_sexoNacionalidad.groupby(['Periodo','Nacionalidad']).mean()"
   ]
  },
  {
   "attachments": {},
   "cell_type": "markdown",
   "metadata": {},
   "source": [
    "### Gráficas y correlaciones ###\n"
   ]
  },
  {
   "cell_type": "code",
   "execution_count": 57,
   "metadata": {},
   "outputs": [],
   "source": [
    "import pandas as pd\n",
    "import matplotlib.pyplot as plt\n",
    "import seaborn as sns\n",
    "import plotly.graph_objects as go\n",
    "from plotly.offline import iplot"
   ]
  },
  {
   "cell_type": "code",
   "execution_count": 58,
   "metadata": {},
   "outputs": [
    {
     "data": {
      "text/html": [
       "<div>\n",
       "<style scoped>\n",
       "    .dataframe tbody tr th:only-of-type {\n",
       "        vertical-align: middle;\n",
       "    }\n",
       "\n",
       "    .dataframe tbody tr th {\n",
       "        vertical-align: top;\n",
       "    }\n",
       "\n",
       "    .dataframe thead th {\n",
       "        text-align: right;\n",
       "    }\n",
       "</style>\n",
       "<table border=\"1\" class=\"dataframe\">\n",
       "  <thead>\n",
       "    <tr style=\"text-align: right;\">\n",
       "      <th></th>\n",
       "      <th>Nacionalidad</th>\n",
       "      <th>Sexo</th>\n",
       "      <th>Periodo</th>\n",
       "      <th>Total</th>\n",
       "    </tr>\n",
       "  </thead>\n",
       "  <tbody>\n",
       "    <tr>\n",
       "      <th>0</th>\n",
       "      <td>Total</td>\n",
       "      <td>Ambos sexos</td>\n",
       "      <td>2020</td>\n",
       "      <td>25165.51</td>\n",
       "    </tr>\n",
       "    <tr>\n",
       "      <th>1</th>\n",
       "      <td>Total</td>\n",
       "      <td>Ambos sexos</td>\n",
       "      <td>2019</td>\n",
       "      <td>24395.98</td>\n",
       "    </tr>\n",
       "    <tr>\n",
       "      <th>2</th>\n",
       "      <td>Total</td>\n",
       "      <td>Ambos sexos</td>\n",
       "      <td>2018</td>\n",
       "      <td>24009.12</td>\n",
       "    </tr>\n",
       "    <tr>\n",
       "      <th>3</th>\n",
       "      <td>Total</td>\n",
       "      <td>Ambos sexos</td>\n",
       "      <td>2017</td>\n",
       "      <td>23646.50</td>\n",
       "    </tr>\n",
       "    <tr>\n",
       "      <th>4</th>\n",
       "      <td>Total</td>\n",
       "      <td>Ambos sexos</td>\n",
       "      <td>2016</td>\n",
       "      <td>23156.34</td>\n",
       "    </tr>\n",
       "  </tbody>\n",
       "</table>\n",
       "</div>"
      ],
      "text/plain": [
       "  Nacionalidad         Sexo  Periodo     Total\n",
       "0        Total  Ambos sexos     2020  25165.51\n",
       "1        Total  Ambos sexos     2019  24395.98\n",
       "2        Total  Ambos sexos     2018  24009.12\n",
       "3        Total  Ambos sexos     2017  23646.50\n",
       "4        Total  Ambos sexos     2016  23156.34"
      ]
     },
     "execution_count": 58,
     "metadata": {},
     "output_type": "execute_result"
    }
   ],
   "source": [
    "df_ganancias_sexoNacionalidad.head()"
   ]
  },
  {
   "cell_type": "code",
   "execution_count": 59,
   "metadata": {},
   "outputs": [],
   "source": [
    "df_nac = df_ganancias_sexoNacionalidad.groupby(['Nacionalidad','Periodo'], as_index=False).mean()\n"
   ]
  },
  {
   "cell_type": "code",
   "execution_count": 60,
   "metadata": {},
   "outputs": [
    {
     "data": {
      "text/plain": [
       "array(['De Africa', 'De América', 'Española', 'Otros países',\n",
       "       'País de Europa menos UE28', 'País de la UE28 sin España', 'Total'],\n",
       "      dtype=object)"
      ]
     },
     "execution_count": 60,
     "metadata": {},
     "output_type": "execute_result"
    }
   ],
   "source": [
    "#quiero hacer un trace para cada nacionalidad, pruebo si con africa sale\n",
    "\n",
    "df_gender = df_ganancias_sexoNacionalidad[df_ganancias_sexoNacionalidad['Sexo'] == 'Ambos sexos']\n",
    "both_genders_nac_grouped = df_gender.groupby(['Nacionalidad','Periodo'], as_index=False).mean()\n",
    "both_genders_nac_grouped['Nacionalidad'].unique()"
   ]
  },
  {
   "cell_type": "code",
   "execution_count": 61,
   "metadata": {},
   "outputs": [
    {
     "data": {
      "application/vnd.plotly.v1+json": {
       "config": {
        "linkText": "Export to plot.ly",
        "plotlyServerURL": "https://plot.ly",
        "showLink": false
       },
       "data": [
        {
         "mode": "lines",
         "name": "De Africa",
         "type": "scatter",
         "x": [
          2008,
          2009,
          2010,
          2011,
          2012,
          2013,
          2014,
          2015,
          2016,
          2017,
          2018,
          2019,
          2020
         ],
         "y": [
          14744.91,
          15564.9,
          15387.37,
          15721.63,
          14938.38,
          14463.26,
          14870.39,
          14756.32,
          14083.08,
          14637.18,
          16315.07,
          16423.35,
          16784.02
         ]
        },
        {
         "mode": "lines",
         "name": "Española",
         "type": "scatter",
         "x": [
          2008,
          2009,
          2010,
          2011,
          2012,
          2013,
          2014,
          2015,
          2016,
          2017,
          2018,
          2019,
          2020
         ],
         "y": [
          22485.64,
          23018.58,
          23335.39,
          23429.41,
          23232.42,
          23181.18,
          23237.94,
          23543.48,
          23605.82,
          24116.92,
          24440.21,
          24936.03,
          25690.74
         ]
        },
        {
         "mode": "lines",
         "name": "De América",
         "type": "scatter",
         "x": [
          2008,
          2009,
          2010,
          2011,
          2012,
          2013,
          2014,
          2015,
          2016,
          2017,
          2018,
          2019,
          2020
         ],
         "y": [
          13962.05,
          14157.81,
          14884.49,
          14894.07,
          14605.57,
          14234.62,
          15033.24,
          14649.9,
          14796.17,
          15283.56,
          16573.81,
          15794.1,
          16100.85
         ]
        },
        {
         "mode": "lines",
         "name": "Otros países",
         "type": "scatter",
         "x": [
          2008,
          2009,
          2010,
          2011,
          2012,
          2013,
          2014,
          2015,
          2016,
          2017,
          2018,
          2019,
          2020
         ],
         "y": [
          11896.77,
          11868.31,
          13964.71,
          12268.55,
          12439.67,
          11960.85,
          13454.65,
          12519.6,
          13409.01,
          13873.92,
          16443.13,
          16060.84,
          16433.04
         ]
        },
        {
         "mode": "lines",
         "name": "Europa sin UE28",
         "type": "scatter",
         "x": [
          2008,
          2009,
          2010,
          2011,
          2012,
          2013,
          2014,
          2015,
          2016,
          2017,
          2018,
          2019,
          2020
         ],
         "y": [
          14330.03,
          14137.08,
          16400.42,
          16518.28,
          14482.5,
          14994.68,
          15147.39,
          15367.6,
          15948.73,
          16325.34,
          16788.31,
          17258.29,
          19852.61
         ]
        },
        {
         "mode": "lines",
         "name": "Europa UE28 sin España",
         "type": "scatter",
         "x": [
          2008,
          2009,
          2010,
          2011,
          2012,
          2013,
          2014,
          2015,
          2016,
          2017,
          2018,
          2019,
          2020
         ],
         "y": [
          16823.08,
          17235.14,
          18637.2,
          17892.58,
          17442.58,
          17987.83,
          20327.35,
          19145.87,
          18870.52,
          19975.81,
          20999.87,
          20795.83,
          21832.44
         ]
        },
        {
         "mode": "lines",
         "name": "Total",
         "type": "scatter",
         "x": [
          2008,
          2009,
          2010,
          2011,
          2012,
          2013,
          2014,
          2015,
          2016,
          2017,
          2018,
          2019,
          2020
         ],
         "y": [
          21883.42,
          22511.47,
          22790.2,
          22899.35,
          22726.44,
          22697.86,
          22858.17,
          23106.3,
          23156.34,
          23646.5,
          24009.12,
          24395.98,
          25165.51
         ]
        }
       ],
       "layout": {
        "template": {
         "data": {
          "bar": [
           {
            "error_x": {
             "color": "#2a3f5f"
            },
            "error_y": {
             "color": "#2a3f5f"
            },
            "marker": {
             "line": {
              "color": "#E5ECF6",
              "width": 0.5
             },
             "pattern": {
              "fillmode": "overlay",
              "size": 10,
              "solidity": 0.2
             }
            },
            "type": "bar"
           }
          ],
          "barpolar": [
           {
            "marker": {
             "line": {
              "color": "#E5ECF6",
              "width": 0.5
             },
             "pattern": {
              "fillmode": "overlay",
              "size": 10,
              "solidity": 0.2
             }
            },
            "type": "barpolar"
           }
          ],
          "carpet": [
           {
            "aaxis": {
             "endlinecolor": "#2a3f5f",
             "gridcolor": "white",
             "linecolor": "white",
             "minorgridcolor": "white",
             "startlinecolor": "#2a3f5f"
            },
            "baxis": {
             "endlinecolor": "#2a3f5f",
             "gridcolor": "white",
             "linecolor": "white",
             "minorgridcolor": "white",
             "startlinecolor": "#2a3f5f"
            },
            "type": "carpet"
           }
          ],
          "choropleth": [
           {
            "colorbar": {
             "outlinewidth": 0,
             "ticks": ""
            },
            "type": "choropleth"
           }
          ],
          "contour": [
           {
            "colorbar": {
             "outlinewidth": 0,
             "ticks": ""
            },
            "colorscale": [
             [
              0,
              "#0d0887"
             ],
             [
              0.1111111111111111,
              "#46039f"
             ],
             [
              0.2222222222222222,
              "#7201a8"
             ],
             [
              0.3333333333333333,
              "#9c179e"
             ],
             [
              0.4444444444444444,
              "#bd3786"
             ],
             [
              0.5555555555555556,
              "#d8576b"
             ],
             [
              0.6666666666666666,
              "#ed7953"
             ],
             [
              0.7777777777777778,
              "#fb9f3a"
             ],
             [
              0.8888888888888888,
              "#fdca26"
             ],
             [
              1,
              "#f0f921"
             ]
            ],
            "type": "contour"
           }
          ],
          "contourcarpet": [
           {
            "colorbar": {
             "outlinewidth": 0,
             "ticks": ""
            },
            "type": "contourcarpet"
           }
          ],
          "heatmap": [
           {
            "colorbar": {
             "outlinewidth": 0,
             "ticks": ""
            },
            "colorscale": [
             [
              0,
              "#0d0887"
             ],
             [
              0.1111111111111111,
              "#46039f"
             ],
             [
              0.2222222222222222,
              "#7201a8"
             ],
             [
              0.3333333333333333,
              "#9c179e"
             ],
             [
              0.4444444444444444,
              "#bd3786"
             ],
             [
              0.5555555555555556,
              "#d8576b"
             ],
             [
              0.6666666666666666,
              "#ed7953"
             ],
             [
              0.7777777777777778,
              "#fb9f3a"
             ],
             [
              0.8888888888888888,
              "#fdca26"
             ],
             [
              1,
              "#f0f921"
             ]
            ],
            "type": "heatmap"
           }
          ],
          "heatmapgl": [
           {
            "colorbar": {
             "outlinewidth": 0,
             "ticks": ""
            },
            "colorscale": [
             [
              0,
              "#0d0887"
             ],
             [
              0.1111111111111111,
              "#46039f"
             ],
             [
              0.2222222222222222,
              "#7201a8"
             ],
             [
              0.3333333333333333,
              "#9c179e"
             ],
             [
              0.4444444444444444,
              "#bd3786"
             ],
             [
              0.5555555555555556,
              "#d8576b"
             ],
             [
              0.6666666666666666,
              "#ed7953"
             ],
             [
              0.7777777777777778,
              "#fb9f3a"
             ],
             [
              0.8888888888888888,
              "#fdca26"
             ],
             [
              1,
              "#f0f921"
             ]
            ],
            "type": "heatmapgl"
           }
          ],
          "histogram": [
           {
            "marker": {
             "pattern": {
              "fillmode": "overlay",
              "size": 10,
              "solidity": 0.2
             }
            },
            "type": "histogram"
           }
          ],
          "histogram2d": [
           {
            "colorbar": {
             "outlinewidth": 0,
             "ticks": ""
            },
            "colorscale": [
             [
              0,
              "#0d0887"
             ],
             [
              0.1111111111111111,
              "#46039f"
             ],
             [
              0.2222222222222222,
              "#7201a8"
             ],
             [
              0.3333333333333333,
              "#9c179e"
             ],
             [
              0.4444444444444444,
              "#bd3786"
             ],
             [
              0.5555555555555556,
              "#d8576b"
             ],
             [
              0.6666666666666666,
              "#ed7953"
             ],
             [
              0.7777777777777778,
              "#fb9f3a"
             ],
             [
              0.8888888888888888,
              "#fdca26"
             ],
             [
              1,
              "#f0f921"
             ]
            ],
            "type": "histogram2d"
           }
          ],
          "histogram2dcontour": [
           {
            "colorbar": {
             "outlinewidth": 0,
             "ticks": ""
            },
            "colorscale": [
             [
              0,
              "#0d0887"
             ],
             [
              0.1111111111111111,
              "#46039f"
             ],
             [
              0.2222222222222222,
              "#7201a8"
             ],
             [
              0.3333333333333333,
              "#9c179e"
             ],
             [
              0.4444444444444444,
              "#bd3786"
             ],
             [
              0.5555555555555556,
              "#d8576b"
             ],
             [
              0.6666666666666666,
              "#ed7953"
             ],
             [
              0.7777777777777778,
              "#fb9f3a"
             ],
             [
              0.8888888888888888,
              "#fdca26"
             ],
             [
              1,
              "#f0f921"
             ]
            ],
            "type": "histogram2dcontour"
           }
          ],
          "mesh3d": [
           {
            "colorbar": {
             "outlinewidth": 0,
             "ticks": ""
            },
            "type": "mesh3d"
           }
          ],
          "parcoords": [
           {
            "line": {
             "colorbar": {
              "outlinewidth": 0,
              "ticks": ""
             }
            },
            "type": "parcoords"
           }
          ],
          "pie": [
           {
            "automargin": true,
            "type": "pie"
           }
          ],
          "scatter": [
           {
            "fillpattern": {
             "fillmode": "overlay",
             "size": 10,
             "solidity": 0.2
            },
            "type": "scatter"
           }
          ],
          "scatter3d": [
           {
            "line": {
             "colorbar": {
              "outlinewidth": 0,
              "ticks": ""
             }
            },
            "marker": {
             "colorbar": {
              "outlinewidth": 0,
              "ticks": ""
             }
            },
            "type": "scatter3d"
           }
          ],
          "scattercarpet": [
           {
            "marker": {
             "colorbar": {
              "outlinewidth": 0,
              "ticks": ""
             }
            },
            "type": "scattercarpet"
           }
          ],
          "scattergeo": [
           {
            "marker": {
             "colorbar": {
              "outlinewidth": 0,
              "ticks": ""
             }
            },
            "type": "scattergeo"
           }
          ],
          "scattergl": [
           {
            "marker": {
             "colorbar": {
              "outlinewidth": 0,
              "ticks": ""
             }
            },
            "type": "scattergl"
           }
          ],
          "scattermapbox": [
           {
            "marker": {
             "colorbar": {
              "outlinewidth": 0,
              "ticks": ""
             }
            },
            "type": "scattermapbox"
           }
          ],
          "scatterpolar": [
           {
            "marker": {
             "colorbar": {
              "outlinewidth": 0,
              "ticks": ""
             }
            },
            "type": "scatterpolar"
           }
          ],
          "scatterpolargl": [
           {
            "marker": {
             "colorbar": {
              "outlinewidth": 0,
              "ticks": ""
             }
            },
            "type": "scatterpolargl"
           }
          ],
          "scatterternary": [
           {
            "marker": {
             "colorbar": {
              "outlinewidth": 0,
              "ticks": ""
             }
            },
            "type": "scatterternary"
           }
          ],
          "surface": [
           {
            "colorbar": {
             "outlinewidth": 0,
             "ticks": ""
            },
            "colorscale": [
             [
              0,
              "#0d0887"
             ],
             [
              0.1111111111111111,
              "#46039f"
             ],
             [
              0.2222222222222222,
              "#7201a8"
             ],
             [
              0.3333333333333333,
              "#9c179e"
             ],
             [
              0.4444444444444444,
              "#bd3786"
             ],
             [
              0.5555555555555556,
              "#d8576b"
             ],
             [
              0.6666666666666666,
              "#ed7953"
             ],
             [
              0.7777777777777778,
              "#fb9f3a"
             ],
             [
              0.8888888888888888,
              "#fdca26"
             ],
             [
              1,
              "#f0f921"
             ]
            ],
            "type": "surface"
           }
          ],
          "table": [
           {
            "cells": {
             "fill": {
              "color": "#EBF0F8"
             },
             "line": {
              "color": "white"
             }
            },
            "header": {
             "fill": {
              "color": "#C8D4E3"
             },
             "line": {
              "color": "white"
             }
            },
            "type": "table"
           }
          ]
         },
         "layout": {
          "annotationdefaults": {
           "arrowcolor": "#2a3f5f",
           "arrowhead": 0,
           "arrowwidth": 1
          },
          "autotypenumbers": "strict",
          "coloraxis": {
           "colorbar": {
            "outlinewidth": 0,
            "ticks": ""
           }
          },
          "colorscale": {
           "diverging": [
            [
             0,
             "#8e0152"
            ],
            [
             0.1,
             "#c51b7d"
            ],
            [
             0.2,
             "#de77ae"
            ],
            [
             0.3,
             "#f1b6da"
            ],
            [
             0.4,
             "#fde0ef"
            ],
            [
             0.5,
             "#f7f7f7"
            ],
            [
             0.6,
             "#e6f5d0"
            ],
            [
             0.7,
             "#b8e186"
            ],
            [
             0.8,
             "#7fbc41"
            ],
            [
             0.9,
             "#4d9221"
            ],
            [
             1,
             "#276419"
            ]
           ],
           "sequential": [
            [
             0,
             "#0d0887"
            ],
            [
             0.1111111111111111,
             "#46039f"
            ],
            [
             0.2222222222222222,
             "#7201a8"
            ],
            [
             0.3333333333333333,
             "#9c179e"
            ],
            [
             0.4444444444444444,
             "#bd3786"
            ],
            [
             0.5555555555555556,
             "#d8576b"
            ],
            [
             0.6666666666666666,
             "#ed7953"
            ],
            [
             0.7777777777777778,
             "#fb9f3a"
            ],
            [
             0.8888888888888888,
             "#fdca26"
            ],
            [
             1,
             "#f0f921"
            ]
           ],
           "sequentialminus": [
            [
             0,
             "#0d0887"
            ],
            [
             0.1111111111111111,
             "#46039f"
            ],
            [
             0.2222222222222222,
             "#7201a8"
            ],
            [
             0.3333333333333333,
             "#9c179e"
            ],
            [
             0.4444444444444444,
             "#bd3786"
            ],
            [
             0.5555555555555556,
             "#d8576b"
            ],
            [
             0.6666666666666666,
             "#ed7953"
            ],
            [
             0.7777777777777778,
             "#fb9f3a"
            ],
            [
             0.8888888888888888,
             "#fdca26"
            ],
            [
             1,
             "#f0f921"
            ]
           ]
          },
          "colorway": [
           "#636efa",
           "#EF553B",
           "#00cc96",
           "#ab63fa",
           "#FFA15A",
           "#19d3f3",
           "#FF6692",
           "#B6E880",
           "#FF97FF",
           "#FECB52"
          ],
          "font": {
           "color": "#2a3f5f"
          },
          "geo": {
           "bgcolor": "white",
           "lakecolor": "white",
           "landcolor": "#E5ECF6",
           "showlakes": true,
           "showland": true,
           "subunitcolor": "white"
          },
          "hoverlabel": {
           "align": "left"
          },
          "hovermode": "closest",
          "mapbox": {
           "style": "light"
          },
          "paper_bgcolor": "white",
          "plot_bgcolor": "#E5ECF6",
          "polar": {
           "angularaxis": {
            "gridcolor": "white",
            "linecolor": "white",
            "ticks": ""
           },
           "bgcolor": "#E5ECF6",
           "radialaxis": {
            "gridcolor": "white",
            "linecolor": "white",
            "ticks": ""
           }
          },
          "scene": {
           "xaxis": {
            "backgroundcolor": "#E5ECF6",
            "gridcolor": "white",
            "gridwidth": 2,
            "linecolor": "white",
            "showbackground": true,
            "ticks": "",
            "zerolinecolor": "white"
           },
           "yaxis": {
            "backgroundcolor": "#E5ECF6",
            "gridcolor": "white",
            "gridwidth": 2,
            "linecolor": "white",
            "showbackground": true,
            "ticks": "",
            "zerolinecolor": "white"
           },
           "zaxis": {
            "backgroundcolor": "#E5ECF6",
            "gridcolor": "white",
            "gridwidth": 2,
            "linecolor": "white",
            "showbackground": true,
            "ticks": "",
            "zerolinecolor": "white"
           }
          },
          "shapedefaults": {
           "line": {
            "color": "#2a3f5f"
           }
          },
          "ternary": {
           "aaxis": {
            "gridcolor": "white",
            "linecolor": "white",
            "ticks": ""
           },
           "baxis": {
            "gridcolor": "white",
            "linecolor": "white",
            "ticks": ""
           },
           "bgcolor": "#E5ECF6",
           "caxis": {
            "gridcolor": "white",
            "linecolor": "white",
            "ticks": ""
           }
          },
          "title": {
           "x": 0.05
          },
          "xaxis": {
           "automargin": true,
           "gridcolor": "white",
           "linecolor": "white",
           "ticks": "",
           "title": {
            "standoff": 15
           },
           "zerolinecolor": "white",
           "zerolinewidth": 2
          },
          "yaxis": {
           "automargin": true,
           "gridcolor": "white",
           "linecolor": "white",
           "ticks": "",
           "title": {
            "standoff": 15
           },
           "zerolinecolor": "white",
           "zerolinewidth": 2
          }
         }
        },
        "title": {
         "text": "Ingresos por año y nacionalidad"
        },
        "xaxis": {
         "title": {
          "text": "Año"
         }
        }
       }
      }
     },
     "metadata": {},
     "output_type": "display_data"
    }
   ],
   "source": [
    "#vamos a ver si funciona lo de arriba\n",
    "trace1 = go.Scatter(x = both_genders_nac_grouped[both_genders_nac_grouped['Nacionalidad'] == 'De Africa']['Periodo'], y= both_genders_nac_grouped[both_genders_nac_grouped['Nacionalidad'] == 'De Africa']['Total'], mode=\"lines\", name=\"De Africa\")\n",
    "trace2 = go.Scatter(x = both_genders_nac_grouped[both_genders_nac_grouped['Nacionalidad'] == 'Española']['Periodo'], y= both_genders_nac_grouped[both_genders_nac_grouped['Nacionalidad'] == 'Española']['Total'], mode=\"lines\", name=\"Española\")\n",
    "trace3 = go.Scatter(x = both_genders_nac_grouped[both_genders_nac_grouped['Nacionalidad'] == 'De América']['Periodo'], y= both_genders_nac_grouped[both_genders_nac_grouped['Nacionalidad'] == 'De América']['Total'], mode=\"lines\", name=\"De América\")\n",
    "trace4 = go.Scatter(x = both_genders_nac_grouped[both_genders_nac_grouped['Nacionalidad'] == 'Otros países']['Periodo'], y= both_genders_nac_grouped[both_genders_nac_grouped['Nacionalidad'] == 'Otros países']['Total'], mode=\"lines\", name=\"Otros países\")\n",
    "trace5 = go.Scatter(x = both_genders_nac_grouped[both_genders_nac_grouped['Nacionalidad'] == 'País de Europa menos UE28']['Periodo'], y= both_genders_nac_grouped[both_genders_nac_grouped['Nacionalidad'] == 'País de Europa menos UE28']['Total'], mode=\"lines\", name=\"Europa sin UE28\")\n",
    "trace6 = go.Scatter(x = both_genders_nac_grouped[both_genders_nac_grouped['Nacionalidad'] == 'País de la UE28 sin España']['Periodo'], y= both_genders_nac_grouped[both_genders_nac_grouped['Nacionalidad'] == 'País de la UE28 sin España']['Total'], mode=\"lines\", name=\"Europa UE28 sin España\")\n",
    "trace7 = go.Scatter(x = both_genders_nac_grouped[both_genders_nac_grouped['Nacionalidad'] == 'Total']['Periodo'], y= both_genders_nac_grouped[both_genders_nac_grouped['Nacionalidad'] == 'Total']['Total'], mode=\"lines\", name=\"Total\")\n",
    "\n",
    "\n",
    "\n",
    "data = [trace1,trace2, trace3, trace4, trace5, trace6, trace7]\n",
    "\n",
    "\n",
    "layout = dict(title = \"Ingresos por año y nacionalidad\", xaxis = dict(title=\"Año\"))\n",
    "\n",
    "fig = dict(data=data, layout=layout)\n",
    "\n",
    "iplot(fig)"
   ]
  },
  {
   "cell_type": "code",
   "execution_count": null,
   "metadata": {},
   "outputs": [],
   "source": [
    "trace1 = {'x': df_ganancias_sexoNacionalidad['Periodo'],\n",
    "          'y': df_ganancias_sexoNacionalidad['Total'],\n",
    "          \"type\": 'bar'\n",
    "        }\n",
    "layout = {'xaxis': {\"title\":\"States\"},\n",
    "          'title': \"Total sales in 2014 by state\"\n",
    "        }\n",
    "fig = go.Figure(data=trace1, layout=layout)\n",
    "iplot(fig)"
   ]
  },
  {
   "cell_type": "code",
   "execution_count": null,
   "metadata": {},
   "outputs": [],
   "source": []
  }
 ],
 "metadata": {
  "kernelspec": {
   "display_name": "Python 3",
   "language": "python",
   "name": "python3"
  },
  "language_info": {
   "codemirror_mode": {
    "name": "ipython",
    "version": 3
   },
   "file_extension": ".py",
   "mimetype": "text/x-python",
   "name": "python",
   "nbconvert_exporter": "python",
   "pygments_lexer": "ipython3",
   "version": "3.7.4"
  },
  "orig_nbformat": 4,
  "vscode": {
   "interpreter": {
    "hash": "36072dc70da23f6a7dd1c68cdc94038b6131d731212e995032884d4bb119d6e7"
   }
  }
 },
 "nbformat": 4,
 "nbformat_minor": 2
}
